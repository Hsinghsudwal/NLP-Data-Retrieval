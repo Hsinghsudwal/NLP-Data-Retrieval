{
 "cells": [
  {
   "cell_type": "markdown",
   "id": "894134aa",
   "metadata": {},
   "source": []
  },
  {
   "cell_type": "markdown",
   "id": "8b0f8553",
   "metadata": {},
   "source": [
    "### Import Required Libraries"
   ]
  },
  {
   "cell_type": "code",
   "execution_count": null,
   "id": "64e36acf",
   "metadata": {
    "tags": []
   },
   "outputs": [],
   "source": [
    "import pandas as pd\n",
    "import numpy as np\n",
    "import re\n",
    "import matplotlib.pyplot as plt \n",
    "import seaborn as sns\n",
    "import nltk\n",
    "from nltk.corpus import stopwords\n",
    "nltk.download('stopwords')\n",
    "from nltk.stem import WordNetLemmatizer\n",
    "nltk.download('wordnet')\n",
    "from nltk.stem import PorterStemmer\n",
    "nltk.download('punkt')\n",
    "from nltk.stem import WordNetLemmatizer\n",
    "lemmatizer = WordNetLemmatizer()\n",
    "\n",
    "import warnings \n",
    "warnings.filterwarnings(\"ignore\")\n"
   ]
  },
  {
   "cell_type": "markdown",
   "id": "7006bf7b",
   "metadata": {},
   "source": [
    "### Load and EDA Dataset"
   ]
  },
  {
   "cell_type": "code",
   "execution_count": null,
   "id": "024853c7",
   "metadata": {
    "tags": []
   },
   "outputs": [],
   "source": [
    "data = pd.read_csv(\"BBC-text.csv\")\n"
   ]
  },
  {
   "cell_type": "code",
   "execution_count": null,
   "id": "822eceef",
   "metadata": {
    "tags": []
   },
   "outputs": [],
   "source": [
    "data\n"
   ]
  },
  {
   "cell_type": "code",
   "execution_count": 4,
   "id": "a62b031d",
   "metadata": {
    "tags": []
   },
   "outputs": [
    {
     "data": {
      "text/plain": [
       "0                tech\n",
       "1            business\n",
       "2               sport\n",
       "3               sport\n",
       "4       entertainment\n",
       "            ...      \n",
       "2220         business\n",
       "2221         politics\n",
       "2222    entertainment\n",
       "2223         politics\n",
       "2224            sport\n",
       "Name: category, Length: 2225, dtype: object"
      ]
     },
     "execution_count": 4,
     "metadata": {},
     "output_type": "execute_result"
    }
   ],
   "source": [
    "data.category\n"
   ]
  },
  {
   "cell_type": "code",
   "execution_count": 5,
   "id": "b4335aaf",
   "metadata": {
    "tags": []
   },
   "outputs": [
    {
     "data": {
      "text/plain": [
       "(2225, 2)"
      ]
     },
     "execution_count": 5,
     "metadata": {},
     "output_type": "execute_result"
    }
   ],
   "source": [
    "data.shape\n"
   ]
  },
  {
   "cell_type": "code",
   "execution_count": 6,
   "id": "d55ac426-8954-40ea-890b-396ea36fd7be",
   "metadata": {
    "tags": []
   },
   "outputs": [
    {
     "data": {
      "text/plain": [
       "category\n",
       "sport            511\n",
       "business         510\n",
       "politics         417\n",
       "tech             401\n",
       "entertainment    386\n",
       "Name: count, dtype: int64"
      ]
     },
     "execution_count": 6,
     "metadata": {},
     "output_type": "execute_result"
    }
   ],
   "source": [
    "data['category'].value_counts()\n"
   ]
  },
  {
   "cell_type": "code",
   "execution_count": 7,
   "id": "d9a6629b-5896-4d0f-8e01-86c0261081ff",
   "metadata": {
    "tags": []
   },
   "outputs": [
    {
     "data": {
      "text/plain": [
       "array(['tech', 'business', 'sport', 'entertainment', 'politics'],\n",
       "      dtype=object)"
      ]
     },
     "execution_count": 7,
     "metadata": {},
     "output_type": "execute_result"
    }
   ],
   "source": [
    "data['category'].unique()\n"
   ]
  },
  {
   "cell_type": "code",
   "execution_count": null,
   "id": "78eaa3d2",
   "metadata": {},
   "outputs": [],
   "source": [
    "data.loc[1000]\n"
   ]
  },
  {
   "cell_type": "code",
   "execution_count": null,
   "id": "b2a49bbd",
   "metadata": {},
   "outputs": [],
   "source": [
    "data['category'][1000]\n"
   ]
  },
  {
   "cell_type": "code",
   "execution_count": null,
   "id": "5542fa78-055b-4203-a297-7f3793bcf90e",
   "metadata": {
    "tags": []
   },
   "outputs": [],
   "source": [
    "data['text'][1000]\n"
   ]
  },
  {
   "cell_type": "code",
   "execution_count": 9,
   "id": "cfd7dcea-6a01-466c-848f-75a53fec8ee4",
   "metadata": {
    "tags": []
   },
   "outputs": [
    {
     "data": {
      "text/plain": [
       "<Axes: xlabel='category'>"
      ]
     },
     "execution_count": 9,
     "metadata": {},
     "output_type": "execute_result"
    },
    {
     "data": {
      "image/png": "[encoded data removed]",
      "text/plain": [
       "<Figure size 640x480 with 1 Axes>"
      ]
     },
     "metadata": {},
     "output_type": "display_data"
    }
   ],
   "source": [
    "data['category'].value_counts(normalize = True).plot.bar()\n"
   ]
  },
  {
   "cell_type": "markdown",
   "id": "dde3a7f4-41ea-4fc1-b53d-d629584df4ea",
   "metadata": {},
   "source": [
    "### Pre-Process"
   ]
  },
  {
   "cell_type": "code",
   "execution_count": 8,
   "id": "d00a5ed5-b0c4-437d-9290-bdb971c08a97",
   "metadata": {
    "tags": []
   },
   "outputs": [],
   "source": [
    "# clean the text data using regex and data cleaning function\n",
    "# create a list text\n",
    "import string\n",
    "\n",
    "def clean_text(text):\n",
    "    #r = re.sub('[^a-zA-Z]', ' ', text)\n",
    "    r= re.sub(\"'\", \"\",text)\n",
    "    #r=re.sub(\"(-\\d)+\",\" \",text)\n",
    "    r=re.sub(\"(-\\d|\\W)+\",\" \",text)\n",
    "    r = r.lower()\n",
    "    r = r.split()\n",
    "    r = [word for word in r if word not in stopwords.words('english')]\n",
    "    r = [word for word in r if word not in list(string.punctuation)]\n",
    "    r = [lemmatizer.lemmatize(word) for word in r]\n",
    "    return ' '.join(r)\n"
   ]
  },
  {
   "cell_type": "code",
   "execution_count": 11,
   "id": "dac248eb-bccf-432c-af17-028f9639316c",
   "metadata": {
    "tags": []
   },
   "outputs": [
    {
     "name": "stdout",
     "output_type": "stream",
     "text": [
      "entertainment\n"
     ]
    }
   ],
   "source": [
    "clean_text(data['text'][10])\n",
    "print(data['category'][10])\n"
   ]
  },
  {
   "cell_type": "code",
   "execution_count": 12,
   "id": "5ce5c970-11d5-4649-99db-0c0d9e89dd92",
   "metadata": {
    "tags": []
   },
   "outputs": [],
   "source": [
    "data['clean_text']=data['text'].apply(clean_text )\n"
   ]
  },
  {
   "cell_type": "code",
   "execution_count": 15,
   "id": "ca8ca27d-a70f-4b0f-adf2-1d77f7765416",
   "metadata": {
    "tags": []
   },
   "outputs": [],
   "source": [
    "# Save csv for later\n",
    "data.to_csv('bbc_news_clean_text.csv')\n"
   ]
  },
  {
   "cell_type": "code",
   "execution_count": 6,
   "id": "92d465ec-e93a-4e62-acc3-1e64ccdb9c1b",
   "metadata": {
    "tags": []
   },
   "outputs": [
    {
     "data": {
      "text/html": [
       "<div>\n",
       "<style scoped>\n",
       "    .dataframe tbody tr th:only-of-type {\n",
       "        vertical-align: middle;\n",
       "    }\n",
       "\n",
       "    .dataframe tbody tr th {\n",
       "        vertical-align: top;\n",
       "    }\n",
       "\n",
       "    .dataframe thead th {\n",
       "        text-align: right;\n",
       "    }\n",
       "</style>\n",
       "<table border=\"1\" class=\"dataframe\">\n",
       "  <thead>\n",
       "    <tr style=\"text-align: right;\">\n",
       "      <th></th>\n",
       "      <th>Unnamed: 0</th>\n",
       "      <th>category</th>\n",
       "      <th>text</th>\n",
       "      <th>clean_text</th>\n",
       "    </tr>\n",
       "  </thead>\n",
       "  <tbody>\n",
       "    <tr>\n",
       "      <th>0</th>\n",
       "      <td>0</td>\n",
       "      <td>tech</td>\n",
       "      <td>tv future in the hands of viewers with home th...</td>\n",
       "      <td>tv future hand viewer home theatre system plas...</td>\n",
       "    </tr>\n",
       "    <tr>\n",
       "      <th>1</th>\n",
       "      <td>1</td>\n",
       "      <td>business</td>\n",
       "      <td>worldcom boss  left books alone  former worldc...</td>\n",
       "      <td>worldcom bos left book alone former worldcom b...</td>\n",
       "    </tr>\n",
       "    <tr>\n",
       "      <th>2</th>\n",
       "      <td>2</td>\n",
       "      <td>sport</td>\n",
       "      <td>tigers wary of farrell  gamble  leicester say ...</td>\n",
       "      <td>tiger wary farrell gamble leicester say rushed...</td>\n",
       "    </tr>\n",
       "    <tr>\n",
       "      <th>3</th>\n",
       "      <td>3</td>\n",
       "      <td>sport</td>\n",
       "      <td>yeading face newcastle in fa cup premiership s...</td>\n",
       "      <td>yeading face newcastle fa cup premiership side...</td>\n",
       "    </tr>\n",
       "    <tr>\n",
       "      <th>4</th>\n",
       "      <td>4</td>\n",
       "      <td>entertainment</td>\n",
       "      <td>ocean s twelve raids box office ocean s twelve...</td>\n",
       "      <td>ocean twelve raid box office ocean twelve crim...</td>\n",
       "    </tr>\n",
       "  </tbody>\n",
       "</table>\n",
       "</div>"
      ],
      "text/plain": [
       "   Unnamed: 0       category   \n",
       "0           0           tech  \\\n",
       "1           1       business   \n",
       "2           2          sport   \n",
       "3           3          sport   \n",
       "4           4  entertainment   \n",
       "\n",
       "                                                text   \n",
       "0  tv future in the hands of viewers with home th...  \\\n",
       "1  worldcom boss  left books alone  former worldc...   \n",
       "2  tigers wary of farrell  gamble  leicester say ...   \n",
       "3  yeading face newcastle in fa cup premiership s...   \n",
       "4  ocean s twelve raids box office ocean s twelve...   \n",
       "\n",
       "                                          clean_text  \n",
       "0  tv future hand viewer home theatre system plas...  \n",
       "1  worldcom bos left book alone former worldcom b...  \n",
       "2  tiger wary farrell gamble leicester say rushed...  \n",
       "3  yeading face newcastle fa cup premiership side...  \n",
       "4  ocean twelve raid box office ocean twelve crim...  "
      ]
     },
     "execution_count": 6,
     "metadata": {},
     "output_type": "execute_result"
    }
   ],
   "source": [
    "import pandas as pd\n",
    "df = pd.read_csv('bbc_news_clean_text.csv')\n",
    "df.head()\n"
   ]
  },
  {
   "cell_type": "code",
   "execution_count": 17,
   "id": "75226df1-e9fb-410c-a53e-dfb9b1ba3a5f",
   "metadata": {
    "tags": []
   },
   "outputs": [
    {
     "data": {
      "text/plain": [
       "Unnamed: 0    0\n",
       "category      0\n",
       "text          0\n",
       "clean_text    0\n",
       "dtype: int64"
      ]
     },
     "execution_count": 17,
     "metadata": {},
     "output_type": "execute_result"
    }
   ],
   "source": [
    "df.isnull().sum()\n"
   ]
  },
  {
   "cell_type": "code",
   "execution_count": 18,
   "id": "fb2f1b9c-25b8-4683-92e5-e2fc01aed5d7",
   "metadata": {
    "tags": []
   },
   "outputs": [],
   "source": [
    "df=df.dropna()\n"
   ]
  },
  {
   "cell_type": "code",
   "execution_count": 19,
   "id": "d0c874e8-78cf-44f0-90ad-4a0daac0a4d9",
   "metadata": {
    "tags": []
   },
   "outputs": [
    {
     "data": {
      "text/html": [
       "<div>\n",
       "<style scoped>\n",
       "    .dataframe tbody tr th:only-of-type {\n",
       "        vertical-align: middle;\n",
       "    }\n",
       "\n",
       "    .dataframe tbody tr th {\n",
       "        vertical-align: top;\n",
       "    }\n",
       "\n",
       "    .dataframe thead th {\n",
       "        text-align: right;\n",
       "    }\n",
       "</style>\n",
       "<table border=\"1\" class=\"dataframe\">\n",
       "  <thead>\n",
       "    <tr style=\"text-align: right;\">\n",
       "      <th></th>\n",
       "      <th>Unnamed: 0</th>\n",
       "      <th>category</th>\n",
       "      <th>text</th>\n",
       "      <th>clean_text</th>\n",
       "      <th>label_category</th>\n",
       "    </tr>\n",
       "  </thead>\n",
       "  <tbody>\n",
       "    <tr>\n",
       "      <th>0</th>\n",
       "      <td>0</td>\n",
       "      <td>tech</td>\n",
       "      <td>tv future in the hands of viewers with home th...</td>\n",
       "      <td>tv future hand viewer home theatre system plas...</td>\n",
       "      <td>4</td>\n",
       "    </tr>\n",
       "    <tr>\n",
       "      <th>1</th>\n",
       "      <td>1</td>\n",
       "      <td>business</td>\n",
       "      <td>worldcom boss  left books alone  former worldc...</td>\n",
       "      <td>worldcom bos left book alone former worldcom b...</td>\n",
       "      <td>0</td>\n",
       "    </tr>\n",
       "    <tr>\n",
       "      <th>2</th>\n",
       "      <td>2</td>\n",
       "      <td>sport</td>\n",
       "      <td>tigers wary of farrell  gamble  leicester say ...</td>\n",
       "      <td>tiger wary farrell gamble leicester say rushed...</td>\n",
       "      <td>3</td>\n",
       "    </tr>\n",
       "    <tr>\n",
       "      <th>3</th>\n",
       "      <td>3</td>\n",
       "      <td>sport</td>\n",
       "      <td>yeading face newcastle in fa cup premiership s...</td>\n",
       "      <td>yeading face newcastle fa cup premiership side...</td>\n",
       "      <td>3</td>\n",
       "    </tr>\n",
       "    <tr>\n",
       "      <th>4</th>\n",
       "      <td>4</td>\n",
       "      <td>entertainment</td>\n",
       "      <td>ocean s twelve raids box office ocean s twelve...</td>\n",
       "      <td>ocean twelve raid box office ocean twelve crim...</td>\n",
       "      <td>1</td>\n",
       "    </tr>\n",
       "  </tbody>\n",
       "</table>\n",
       "</div>"
      ],
      "text/plain": [
       "   Unnamed: 0       category   \n",
       "0           0           tech  \\\n",
       "1           1       business   \n",
       "2           2          sport   \n",
       "3           3          sport   \n",
       "4           4  entertainment   \n",
       "\n",
       "                                                text   \n",
       "0  tv future in the hands of viewers with home th...  \\\n",
       "1  worldcom boss  left books alone  former worldc...   \n",
       "2  tigers wary of farrell  gamble  leicester say ...   \n",
       "3  yeading face newcastle in fa cup premiership s...   \n",
       "4  ocean s twelve raids box office ocean s twelve...   \n",
       "\n",
       "                                          clean_text  label_category  \n",
       "0  tv future hand viewer home theatre system plas...               4  \n",
       "1  worldcom bos left book alone former worldcom b...               0  \n",
       "2  tiger wary farrell gamble leicester say rushed...               3  \n",
       "3  yeading face newcastle fa cup premiership side...               3  \n",
       "4  ocean twelve raid box office ocean twelve crim...               1  "
      ]
     },
     "execution_count": 19,
     "metadata": {},
     "output_type": "execute_result"
    }
   ],
   "source": [
    "# Now encode the data\n",
    "from sklearn.preprocessing import LabelEncoder\n",
    "label = LabelEncoder()\n",
    "df['label_category'] = label.fit_transform(df['category'])\n",
    "df.head()\n"
   ]
  },
  {
   "cell_type": "code",
   "execution_count": 20,
   "id": "db424c86-8880-47cd-85f1-2ab806618e34",
   "metadata": {
    "tags": []
   },
   "outputs": [
    {
     "data": {
      "text/plain": [
       "category\n",
       "sport            511\n",
       "business         510\n",
       "politics         417\n",
       "tech             401\n",
       "entertainment    386\n",
       "Name: count, dtype: int64"
      ]
     },
     "execution_count": 20,
     "metadata": {},
     "output_type": "execute_result"
    }
   ],
   "source": [
    "df['category'].value_counts()\n"
   ]
  },
  {
   "cell_type": "markdown",
   "id": "e7f671b8",
   "metadata": {},
   "source": [
    "### Feature Extraction"
   ]
  },
  {
   "cell_type": "code",
   "execution_count": 37,
   "id": "65276133",
   "metadata": {},
   "outputs": [],
   "source": [
    "from sklearn.feature_extraction.text import CountVectorizer\n",
    "cv = CountVectorizer(max_features=5000,  \n",
    "                        analyzer='word',\n",
    "                        stop_words= 'english',)\n",
    "X = cv.fit_transform(df.clean_text).toarray()\n",
    "\n"
   ]
  },
  {
   "cell_type": "code",
   "execution_count": 39,
   "id": "b4644362",
   "metadata": {},
   "outputs": [
    {
     "data": {
      "text/plain": [
       "['vectorizer.pkl']"
      ]
     },
     "execution_count": 39,
     "metadata": {},
     "output_type": "execute_result"
    }
   ],
   "source": [
    "import joblib\n",
    "joblib.dump(cv, 'vectorizer.pkl')   #cv vectorizer\n"
   ]
  },
  {
   "cell_type": "code",
   "execution_count": 40,
   "id": "60e5b35e",
   "metadata": {
    "tags": []
   },
   "outputs": [
    {
     "data": {
      "text/plain": [
       "0                tech\n",
       "1            business\n",
       "2               sport\n",
       "3               sport\n",
       "4       entertainment\n",
       "            ...      \n",
       "2220         business\n",
       "2221         politics\n",
       "2222    entertainment\n",
       "2223         politics\n",
       "2224            sport\n",
       "Name: category, Length: 2225, dtype: object"
      ]
     },
     "execution_count": 40,
     "metadata": {},
     "output_type": "execute_result"
    }
   ],
   "source": [
    "y = df['category']\n",
    "y\n"
   ]
  },
  {
   "cell_type": "markdown",
   "id": "73bf4274",
   "metadata": {},
   "source": [
    "### Model Selection"
   ]
  },
  {
   "cell_type": "code",
   "execution_count": 41,
   "id": "11623a78",
   "metadata": {
    "tags": []
   },
   "outputs": [
    {
     "data": {
      "text/plain": [
       "((1780, 5000), (445, 5000), (1780,), (445,))"
      ]
     },
     "execution_count": 41,
     "metadata": {},
     "output_type": "execute_result"
    }
   ],
   "source": [
    "from sklearn.model_selection import train_test_split\n",
    "\n",
    "X_train,X_test,y_train,y_test = train_test_split(X,y,random_state=42,test_size=0.2)\n",
    "X_train.shape, X_test.shape, y_train.shape, y_test.shape\n"
   ]
  },
  {
   "cell_type": "code",
   "execution_count": 42,
   "id": "7499c80a",
   "metadata": {
    "tags": []
   },
   "outputs": [
    {
     "data": {
      "text/plain": [
       "(1780, 5000)"
      ]
     },
     "execution_count": 42,
     "metadata": {},
     "output_type": "execute_result"
    }
   ],
   "source": [
    "X_train.shape\n"
   ]
  },
  {
   "cell_type": "code",
   "execution_count": 43,
   "id": "c14cb154",
   "metadata": {
    "tags": []
   },
   "outputs": [
    {
     "data": {
      "text/plain": [
       "(445, 5000)"
      ]
     },
     "execution_count": 43,
     "metadata": {},
     "output_type": "execute_result"
    }
   ],
   "source": [
    "X_test.shape\n"
   ]
  },
  {
   "cell_type": "markdown",
   "id": "b5268b09",
   "metadata": {},
   "source": [
    "### training the model"
   ]
  },
  {
   "cell_type": "code",
   "execution_count": 2,
   "id": "bfcb4fd5-9c73-4674-a71c-476826982fb8",
   "metadata": {
    "tags": []
   },
   "outputs": [],
   "source": [
    "from sklearn.metrics import accuracy_score\n",
    "from sklearn.metrics import precision_recall_fscore_support as score\n",
    "from sklearn.multiclass import OneVsRestClassifier\n",
    "from sklearn.svm import SVC, LinearSVC\n",
    "from sklearn.tree import DecisionTreeClassifier\n",
    "from sklearn.ensemble import RandomForestClassifier\n",
    "from sklearn.neighbors import KNeighborsClassifier\n",
    "from sklearn.naive_bayes import GaussianNB,MultinomialNB\n",
    "from sklearn.tree import DecisionTreeClassifier\n",
    "from sklearn.ensemble import AdaBoostClassifier\n",
    "from sklearn.ensemble import BaggingClassifier\n",
    "from sklearn.ensemble import ExtraTreesClassifier\n",
    "from sklearn.ensemble import GradientBoostingClassifier\n",
    "from xgboost import XGBClassifier\n",
    "from sklearn import metrics\n"
   ]
  },
  {
   "cell_type": "code",
   "execution_count": 45,
   "id": "db90b261-0181-4f87-91f5-b4389c891e4f",
   "metadata": {
    "tags": []
   },
   "outputs": [],
   "source": [
    "models=[SVC(),\n",
    "        LinearSVC(),\n",
    "        KNeighborsClassifier(),\n",
    "        MultinomialNB(),\n",
    "        DecisionTreeClassifier(max_depth = 5),\n",
    "        RandomForestClassifier(n_estimators = 100, random_state = 42 ),\n",
    "        AdaBoostClassifier(n_estimators = 50, random_state = 42),\n",
    "        BaggingClassifier(n_estimators = 50, random_state = 42),\n",
    "        ExtraTreesClassifier(n_estimators = 50, random_state = 42),\n",
    "        GradientBoostingClassifier(n_estimators = 50, random_state = 42),\n",
    "        XGBClassifier(n_estimators = 50, random_state = 42),\n",
    "       ]\n"
   ]
  },
  {
   "cell_type": "code",
   "execution_count": 46,
   "id": "f5f6b203-6af5-49f6-8db6-8b9a0f99de8f",
   "metadata": {
    "tags": []
   },
   "outputs": [
    {
     "name": "stdout",
     "output_type": "stream",
     "text": [
      "0.952808988764045 OneVsRestClassifier(estimator=SVC())\n",
      "0.9483146067415731 OneVsRestClassifier(estimator=LinearSVC())\n",
      "0.7056179775280899 OneVsRestClassifier(estimator=KNeighborsClassifier())\n",
      "0.9640449438202248 OneVsRestClassifier(estimator=MultinomialNB())\n",
      "0.8337078651685393 OneVsRestClassifier(estimator=DecisionTreeClassifier(max_depth=5))\n",
      "0.9573033707865168 OneVsRestClassifier(estimator=RandomForestClassifier(random_state=42))\n",
      "0.9325842696629213 OneVsRestClassifier(estimator=AdaBoostClassifier(random_state=42))\n",
      "0.9483146067415731 OneVsRestClassifier(estimator=BaggingClassifier(n_estimators=50,\n",
      "                                                random_state=42))\n",
      "0.9595505617977528 OneVsRestClassifier(estimator=ExtraTreesClassifier(n_estimators=50,\n",
      "                                                   random_state=42))\n",
      "0.946067415730337 OneVsRestClassifier(estimator=GradientBoostingClassifier(n_estimators=50,\n",
      "                                                         random_state=42))\n",
      "0.9483146067415731 OneVsRestClassifier(estimator=XGBClassifier(base_score=None, booster=None,\n",
      "                                            callbacks=None,\n",
      "                                            colsample_bylevel=None,\n",
      "                                            colsample_bynode=None,\n",
      "                                            colsample_bytree=None, device=None,\n",
      "                                            early_stopping_rounds=None,\n",
      "                                            enable_categorical=False,\n",
      "                                            eval_metric=None,\n",
      "                                            feature_types=None, gamma=None,\n",
      "                                            grow_policy=None,\n",
      "                                            importance_type=None,\n",
      "                                            interaction_constraints=None,\n",
      "                                            learning_rate=None, max_bin=None,\n",
      "                                            max_cat_threshold=None,\n",
      "                                            max_cat_to_onehot=None,\n",
      "                                            max_delta_step=None, max_depth=None,\n",
      "                                            max_leaves=None,\n",
      "                                            min_child_weight=None, missing=nan,\n",
      "                                            monotone_constraints=None,\n",
      "                                            multi_strategy=None,\n",
      "                                            n_estimators=50, n_jobs=None,\n",
      "                                            num_parallel_tree=None,\n",
      "                                            random_state=42, ...))\n"
     ]
    }
   ],
   "source": [
    "#basic\n",
    "#wrap in function\n",
    "perform_list = []\n",
    "for model in models:\n",
    "    oneVsRest = OneVsRestClassifier(model)\n",
    "    oneVsRest.fit(X_train, y_train)\n",
    "    y_pred = oneVsRest.predict(X_test)\n",
    "\n",
    "    # Performance metrics\n",
    "    accuracy = accuracy_score(y_test, y_pred)\n",
    "    print(accuracy,oneVsRest)\n",
    "\n",
    "    # Get precision, recall, f1 scores\n",
    "    precision, recall, f1score, support = score(y_test, y_pred, average='micro')\n",
    "\n",
    "    # Add performance parameters to list\n",
    "    # perform_list.append(dict([('Model', model),('Accuracy', round(accuracy, 2)),('Precision', round(precision, 2)),('Recall', round(recall, 2)),('F1', round(f1score, 2))]))\n",
    "    perform_list.append(dict([('Model', model),('Accuracy', accuracy),('Precision', precision),('Recall', recall),('F1', f1score)]))\n",
    "    "
   ]
  },
  {
   "cell_type": "code",
   "execution_count": null,
   "id": "b8d8c146",
   "metadata": {},
   "outputs": [],
   "source": [
    "0.952808988764045 OneVsRestClassifier(estimator=SVC())\n",
    "0.9483146067415731 OneVsRestClassifier(estimator=LinearSVC())\n",
    "0.7056179775280899 OneVsRestClassifier(estimator=KNeighborsClassifier())\n",
    "0.9640449438202248 OneVsRestClassifier(estimator=MultinomialNB())\n",
    "0.8337078651685393 OneVsRestClassifier(estimator=DecisionTreeClassifier(max_depth=5))\n",
    "0.9573033707865168 OneVsRestClassifier(estimator=RandomForestClassifier(random_state=42))\n",
    "0.9325842696629213 OneVsRestClassifier(estimator=AdaBoostClassifier(random_state=42))\n",
    "0.9483146067415731 OneVsRestClassifier(estimator=BaggingClassifier(n_estimators=50,\n",
    "                                                random_state=42))\n",
    "0.9595505617977528 OneVsRestClassifier(estimator=ExtraTreesClassifier(n_estimators=50,\n",
    "                                                   random_state=42))\n",
    "0.946067415730337 OneVsRestClassifier(estimator=GradientBoostingClassifier(n_estimators=50,\n",
    "                                                         random_state=42))\n",
    "0.9483146067415731 OneVsRestClassifier(estimator=XGBClassifier(base_score=None, booster=None,\n",
    "                                            callbacks=None,\n",
    "                                            colsample_bylevel=None,\n",
    "                                            colsample_bynode=None,\n",
    "                                            colsample_bytree=None, device=None,\n",
    "                                            early_stopping_rounds=None,\n",
    "                                            enable_categorical=False,\n",
    "                                            eval_metric=None,\n",
    "                                            feature_types=None, gamma=None,\n",
    "                                            grow_policy=None,\n",
    "                                            importance_type=None,\n",
    "                                            interaction_constraints=None,\n",
    "                                            learning_rate=None, max_bin=None,\n",
    "                                            max_cat_threshold=None,\n",
    "                                            max_cat_to_onehot=None,\n",
    "                                            max_delta_step=None, max_depth=None,\n",
    "                                            max_leaves=None,\n",
    "                                            min_child_weight=None, missing=nan,\n",
    "                                            monotone_constraints=None,\n",
    "                                            multi_strategy=None,\n",
    "                                            n_estimators=50, n_jobs=None,\n",
    "                                            num_parallel_tree=None,\n",
    "                                            random_state=42, ...))\n"
   ]
  },
  {
   "cell_type": "code",
   "execution_count": 47,
   "id": "a475bdef-9867-4b38-b3f0-a58d79a7aa11",
   "metadata": {
    "tags": []
   },
   "outputs": [
    {
     "data": {
      "text/html": [
       "<div>\n",
       "<style scoped>\n",
       "    .dataframe tbody tr th:only-of-type {\n",
       "        vertical-align: middle;\n",
       "    }\n",
       "\n",
       "    .dataframe tbody tr th {\n",
       "        vertical-align: top;\n",
       "    }\n",
       "\n",
       "    .dataframe thead th {\n",
       "        text-align: right;\n",
       "    }\n",
       "</style>\n",
       "<table border=\"1\" class=\"dataframe\">\n",
       "  <thead>\n",
       "    <tr style=\"text-align: right;\">\n",
       "      <th></th>\n",
       "      <th>Model</th>\n",
       "      <th>Accuracy</th>\n",
       "      <th>Precision</th>\n",
       "      <th>Recall</th>\n",
       "      <th>F1</th>\n",
       "    </tr>\n",
       "  </thead>\n",
       "  <tbody>\n",
       "    <tr>\n",
       "      <th>0</th>\n",
       "      <td>SVC()</td>\n",
       "      <td>0.952809</td>\n",
       "      <td>0.952809</td>\n",
       "      <td>0.952809</td>\n",
       "      <td>0.952809</td>\n",
       "    </tr>\n",
       "    <tr>\n",
       "      <th>1</th>\n",
       "      <td>LinearSVC()</td>\n",
       "      <td>0.948315</td>\n",
       "      <td>0.948315</td>\n",
       "      <td>0.948315</td>\n",
       "      <td>0.948315</td>\n",
       "    </tr>\n",
       "    <tr>\n",
       "      <th>2</th>\n",
       "      <td>KNeighborsClassifier()</td>\n",
       "      <td>0.705618</td>\n",
       "      <td>0.705618</td>\n",
       "      <td>0.705618</td>\n",
       "      <td>0.705618</td>\n",
       "    </tr>\n",
       "    <tr>\n",
       "      <th>3</th>\n",
       "      <td>MultinomialNB()</td>\n",
       "      <td>0.964045</td>\n",
       "      <td>0.964045</td>\n",
       "      <td>0.964045</td>\n",
       "      <td>0.964045</td>\n",
       "    </tr>\n",
       "    <tr>\n",
       "      <th>4</th>\n",
       "      <td>DecisionTreeClassifier(max_depth=5)</td>\n",
       "      <td>0.833708</td>\n",
       "      <td>0.833708</td>\n",
       "      <td>0.833708</td>\n",
       "      <td>0.833708</td>\n",
       "    </tr>\n",
       "    <tr>\n",
       "      <th>5</th>\n",
       "      <td>RandomForestClassifier(random_state=42)</td>\n",
       "      <td>0.957303</td>\n",
       "      <td>0.957303</td>\n",
       "      <td>0.957303</td>\n",
       "      <td>0.957303</td>\n",
       "    </tr>\n",
       "    <tr>\n",
       "      <th>6</th>\n",
       "      <td>AdaBoostClassifier(random_state=42)</td>\n",
       "      <td>0.932584</td>\n",
       "      <td>0.932584</td>\n",
       "      <td>0.932584</td>\n",
       "      <td>0.932584</td>\n",
       "    </tr>\n",
       "    <tr>\n",
       "      <th>7</th>\n",
       "      <td>BaggingClassifier(n_estimators=50, random_stat...</td>\n",
       "      <td>0.948315</td>\n",
       "      <td>0.948315</td>\n",
       "      <td>0.948315</td>\n",
       "      <td>0.948315</td>\n",
       "    </tr>\n",
       "    <tr>\n",
       "      <th>8</th>\n",
       "      <td>ExtraTreesClassifier(n_estimators=50, random_s...</td>\n",
       "      <td>0.959551</td>\n",
       "      <td>0.959551</td>\n",
       "      <td>0.959551</td>\n",
       "      <td>0.959551</td>\n",
       "    </tr>\n",
       "    <tr>\n",
       "      <th>9</th>\n",
       "      <td>GradientBoostingClassifier(n_estimators=50, ra...</td>\n",
       "      <td>0.946067</td>\n",
       "      <td>0.946067</td>\n",
       "      <td>0.946067</td>\n",
       "      <td>0.946067</td>\n",
       "    </tr>\n",
       "    <tr>\n",
       "      <th>10</th>\n",
       "      <td>XGBClassifier(base_score=None, booster=None, c...</td>\n",
       "      <td>0.948315</td>\n",
       "      <td>0.948315</td>\n",
       "      <td>0.948315</td>\n",
       "      <td>0.948315</td>\n",
       "    </tr>\n",
       "  </tbody>\n",
       "</table>\n",
       "</div>"
      ],
      "text/plain": [
       "                                                Model  Accuracy  Precision   \n",
       "0                                               SVC()  0.952809   0.952809  \\\n",
       "1                                         LinearSVC()  0.948315   0.948315   \n",
       "2                              KNeighborsClassifier()  0.705618   0.705618   \n",
       "3                                     MultinomialNB()  0.964045   0.964045   \n",
       "4                 DecisionTreeClassifier(max_depth=5)  0.833708   0.833708   \n",
       "5             RandomForestClassifier(random_state=42)  0.957303   0.957303   \n",
       "6                 AdaBoostClassifier(random_state=42)  0.932584   0.932584   \n",
       "7   BaggingClassifier(n_estimators=50, random_stat...  0.948315   0.948315   \n",
       "8   ExtraTreesClassifier(n_estimators=50, random_s...  0.959551   0.959551   \n",
       "9   GradientBoostingClassifier(n_estimators=50, ra...  0.946067   0.946067   \n",
       "10  XGBClassifier(base_score=None, booster=None, c...  0.948315   0.948315   \n",
       "\n",
       "      Recall        F1  \n",
       "0   0.952809  0.952809  \n",
       "1   0.948315  0.948315  \n",
       "2   0.705618  0.705618  \n",
       "3   0.964045  0.964045  \n",
       "4   0.833708  0.833708  \n",
       "5   0.957303  0.957303  \n",
       "6   0.932584  0.932584  \n",
       "7   0.948315  0.948315  \n",
       "8   0.959551  0.959551  \n",
       "9   0.946067  0.946067  \n",
       "10  0.948315  0.948315  "
      ]
     },
     "execution_count": 47,
     "metadata": {},
     "output_type": "execute_result"
    }
   ],
   "source": [
    "newlist=pd.DataFrame(perform_list)\n",
    "newlist\n"
   ]
  },
  {
   "cell_type": "code",
   "execution_count": 51,
   "id": "ef2b0d30",
   "metadata": {
    "tags": []
   },
   "outputs": [
    {
     "data": {
      "text/plain": [
       "0.950561797752809"
      ]
     },
     "execution_count": 51,
     "metadata": {},
     "output_type": "execute_result"
    }
   ],
   "source": [
    "svc1 =  SVC(kernel = \"linear\")#,gamma='auto')\n",
    "svc1.fit(X_train,y_train)\n",
    "ypredlinear = svc1.predict(X_test)\n",
    "accuracy_score(ypredlinear,y_test)\n"
   ]
  },
  {
   "cell_type": "code",
   "execution_count": 52,
   "id": "afa54cca",
   "metadata": {
    "tags": []
   },
   "outputs": [
    {
     "data": {
      "text/plain": [
       "0.9438202247191011"
      ]
     },
     "execution_count": 52,
     "metadata": {},
     "output_type": "execute_result"
    }
   ],
   "source": [
    "svc2 =  SVC(kernel = \"rbf\")\n",
    "svc2.fit(X_train,y_train)\n",
    "ypredrbf = svc2.predict(X_test)\n",
    "accuracy_score(ypredrbf,y_test)\n"
   ]
  },
  {
   "cell_type": "code",
   "execution_count": 53,
   "id": "37fb0137",
   "metadata": {
    "tags": []
   },
   "outputs": [
    {
     "data": {
      "text/plain": [
       "0.5213483146067416"
      ]
     },
     "execution_count": 53,
     "metadata": {},
     "output_type": "execute_result"
    }
   ],
   "source": [
    "svc3 =  SVC(kernel = \"poly\")\n",
    "svc3.fit(X_train,y_train)\n",
    "ypredpoly = svc3.predict(X_test)\n",
    "accuracy_score(ypredpoly,y_test)\n"
   ]
  },
  {
   "cell_type": "code",
   "execution_count": 54,
   "id": "ff82688a",
   "metadata": {
    "tags": []
   },
   "outputs": [
    {
     "data": {
      "text/plain": [
       "0.9550561797752809"
      ]
     },
     "execution_count": 54,
     "metadata": {},
     "output_type": "execute_result"
    }
   ],
   "source": [
    "svc4 =  SVC(kernel = \"sigmoid\")\n",
    "svc4.fit(X_train,y_train)\n",
    "ypredsig = svc4.predict(X_test)\n",
    "accuracy_score(ypredsig,y_test)\n"
   ]
  },
  {
   "cell_type": "code",
   "execution_count": 57,
   "id": "0341cad3",
   "metadata": {},
   "outputs": [
    {
     "data": {
      "text/plain": [
       "0.9685393258426966"
      ]
     },
     "execution_count": 57,
     "metadata": {},
     "output_type": "execute_result"
    }
   ],
   "source": [
    "mnb=MultinomialNB(alpha=1.0, force_alpha=True, fit_prior=True)\n",
    "mnb.fit(X_train,y_train)\n",
    "mnbypred = mnb.predict(X_test)\n",
    "accuracy_score(mnbypred,y_test)\n"
   ]
  },
  {
   "cell_type": "code",
   "execution_count": 58,
   "id": "49b3c64b",
   "metadata": {},
   "outputs": [
    {
     "data": {
      "text/plain": [
       "0.9685393258426966"
      ]
     },
     "execution_count": 58,
     "metadata": {},
     "output_type": "execute_result"
    }
   ],
   "source": [
    "mnbg=MultinomialNB()\n",
    "mnbg.fit(X_train,y_train)\n",
    "mnbgypred = mnbg.predict(X_test)\n",
    "accuracy_score(mnbgypred,y_test)\n"
   ]
  },
  {
   "cell_type": "markdown",
   "id": "f71028f8",
   "metadata": {},
   "source": [
    "### best model"
   ]
  },
  {
   "cell_type": "code",
   "execution_count": 59,
   "id": "853ba368",
   "metadata": {
    "tags": []
   },
   "outputs": [
    {
     "data": {
      "text/plain": [
       "0.9685393258426966"
      ]
     },
     "execution_count": 59,
     "metadata": {},
     "output_type": "execute_result"
    }
   ],
   "source": [
    "model=MultinomialNB(alpha=1.0, force_alpha=True, fit_prior=True)\n",
    "model.fit(X_train,y_train)\n",
    "mnby = model.predict(X_test)\n",
    "accuracy_score(mnby,y_test)\n"
   ]
  },
  {
   "cell_type": "code",
   "execution_count": 60,
   "id": "65cdcf34-69fc-4d17-9e9a-6ebfc36ae4c1",
   "metadata": {
    "tags": []
   },
   "outputs": [
    {
     "name": "stdout",
     "output_type": "stream",
     "text": [
      "CLASSIFICATIION METRICS\n",
      "               precision    recall  f1-score   support\n",
      "\n",
      "         tech       0.98      0.93      0.95       101\n",
      "     business       1.00      0.94      0.97        81\n",
      "        sport       0.92      0.99      0.95        83\n",
      "entertainment       0.99      1.00      0.99        98\n",
      "     politics       0.95      0.99      0.97        82\n",
      "\n",
      "     accuracy                           0.97       445\n",
      "    macro avg       0.97      0.97      0.97       445\n",
      " weighted avg       0.97      0.97      0.97       445\n",
      "\n"
     ]
    }
   ],
   "source": [
    "# Classification report\n",
    "print('CLASSIFICATIION METRICS')\n",
    "print(metrics.classification_report(y_test, mnby, \n",
    "                                    target_names= df['category'].unique()))\n"
   ]
  },
  {
   "cell_type": "code",
   "execution_count": 88,
   "id": "cfd89567",
   "metadata": {},
   "outputs": [
    {
     "data": {
      "text/plain": [
       "array([[94,  1,  1,  0,  0],\n",
       "       [ 0, 76,  0,  0,  0],\n",
       "       [ 6,  1, 82,  0,  0],\n",
       "       [ 0,  0,  0, 98,  1],\n",
       "       [ 1,  3,  0,  0, 81]], dtype=int64)"
      ]
     },
     "execution_count": 88,
     "metadata": {},
     "output_type": "execute_result"
    }
   ],
   "source": [
    "import seaborn as sns\n",
    "from sklearn.metrics import confusion_matrix\n",
    "cm = confusion_matrix(mnby,y_test)\n",
    "cm\n"
   ]
  },
  {
   "cell_type": "code",
   "execution_count": 89,
   "id": "cbd54ee0",
   "metadata": {},
   "outputs": [
    {
     "data": {
      "image/png": "[encoded data removed]",
      "text/plain": [
       "<Figure size 640x480 with 2 Axes>"
      ]
     },
     "metadata": {},
     "output_type": "display_data"
    }
   ],
   "source": [
    "sns.heatmap(cm, annot=True, cmap=\"Blues\")\n",
    "plt.ylabel('Actual')\n",
    "plt.xlabel('Predicted')\n",
    "plt.title(\"CONFUSION MATRIX\")\n",
    "plt.show()\n"
   ]
  },
  {
   "cell_type": "code",
   "execution_count": 61,
   "id": "4b46c470",
   "metadata": {},
   "outputs": [
    {
     "data": {
      "text/plain": [
       "['news_classifier_mnb.pkl']"
      ]
     },
     "execution_count": 61,
     "metadata": {},
     "output_type": "execute_result"
    }
   ],
   "source": [
    "# model save\n",
    "joblib.dump(model, 'news_classifier_mnb.pkl') #classifier\n"
   ]
  },
  {
   "cell_type": "markdown",
   "id": "9131fc20",
   "metadata": {},
   "source": [
    "### Text Classification"
   ]
  },
  {
   "cell_type": "code",
   "execution_count": 4,
   "id": "8f846d7d",
   "metadata": {},
   "outputs": [],
   "source": [
    "import joblib\n",
    "cv=joblib.load('vectorizer.pkl')\n",
    "classi=joblib.load('news_classifier_mnb.pkl')\n"
   ]
  },
  {
   "cell_type": "code",
   "execution_count": 7,
   "id": "d0710bd0-56cf-451f-b339-b1de0b6651dc",
   "metadata": {
    "tags": []
   },
   "outputs": [
    {
     "name": "stdout",
     "output_type": "stream",
     "text": [
      "howard hit back mongrel jibe michael howard said claim peter hain tory leader acting like attack mongrel show labour rattled opposition upbeat speech party spring conference brighton said labour campaigning tactic proved tory hitting home mr hain made claim tory tactic anti terror bill debate something tell someone somewhere little bit rattled mr howard said mr hain leader common told bbc radio four today programme mr howard stance government anti terrorism legislation putting country risk accused tory leader behaving like attack mongrel playing opposition opposition sake mr howard told party labour would anything say anything claim anything cling office cost far year compared fagin shylock flying pig morning peter hain even called mongrel know something tell someone somewhere little bit rattled environment secretary margaret beckett rejected mr howard comment telling radio 4 pm programme labour rattled real duty try get people focus michael howard record proposal trying put forward country also many example seeing believe really poor judgement behalf mr howard said tory policy school tax immigration crime striking chord voter since beginning year election year making political weather told party conference mr howard denied playing politics raising case margaret dixon whose operation cancelled seven time grabbed headline party two week ago hit back labour claim used mr dixon human shield human shield mr blair human mr howard said party plan immigration quota also focus much medium coverage racist common sense pledged cleaner hospital better school discipline promise get rid political correctness national curriculum give everyone chance decent state education come ordinary family teenage michael howard applying cambridge today gordon brown would love stressed party commitment cut tax red tape increase basic state pension line earnings finished personal appeal party activist go win next election one day able tell child grandchild tell mine bit played part helped win famous election election transformed country better labour election co ordinator alan milburn said michael howard speech today confirms always said strategy opportunism forward vision country reference appearance mr howard family conference stage mr milburn said michael howard perfectly entitled pose family today hard working family across britain damaged plan cut 35bn public spending\n",
      "politics\n"
     ]
    }
   ],
   "source": [
    "info=df['clean_text'][5]\n",
    "print(info)\n",
    "print(df['category'][5])\n"
   ]
  },
  {
   "cell_type": "code",
   "execution_count": 9,
   "id": "41aaa070-8db1-4c37-8761-b556984fd68b",
   "metadata": {
    "tags": []
   },
   "outputs": [
    {
     "data": {
      "text/plain": [
       "['howard hit back mongrel jibe michael howard said claim peter hain tory leader acting like attack mongrel show labour rattled opposition upbeat speech party spring conference brighton said labour campaigning tactic proved tory hitting home mr hain made claim tory tactic anti terror bill debate something tell someone somewhere little bit rattled mr howard said mr hain leader common told bbc radio four today programme mr howard stance government anti terrorism legislation putting country risk accused tory leader behaving like attack mongrel playing opposition opposition sake mr howard told party labour would anything say anything claim anything cling office cost far year compared fagin shylock flying pig morning peter hain even called mongrel know something tell someone somewhere little bit rattled environment secretary margaret beckett rejected mr howard comment telling radio 4 pm programme labour rattled real duty try get people focus michael howard record proposal trying put forward country also many example seeing believe really poor judgement behalf mr howard said tory policy school tax immigration crime striking chord voter since beginning year election year making political weather told party conference mr howard denied playing politics raising case margaret dixon whose operation cancelled seven time grabbed headline party two week ago hit back labour claim used mr dixon human shield human shield mr blair human mr howard said party plan immigration quota also focus much medium coverage racist common sense pledged cleaner hospital better school discipline promise get rid political correctness national curriculum give everyone chance decent state education come ordinary family teenage michael howard applying cambridge today gordon brown would love stressed party commitment cut tax red tape increase basic state pension line earnings finished personal appeal party activist go win next election one day able tell child grandchild tell mine bit played part helped win famous election election transformed country better labour election co ordinator alan milburn said michael howard speech today confirms always said strategy opportunism forward vision country reference appearance mr howard family conference stage mr milburn said michael howard perfectly entitled pose family today hard working family across britain damaged plan cut 35bn public spending']"
      ]
     },
     "execution_count": 9,
     "metadata": {},
     "output_type": "execute_result"
    }
   ],
   "source": [
    "headlines=[clean_text(info)]\n",
    "headlines\n"
   ]
  },
  {
   "cell_type": "code",
   "execution_count": 10,
   "id": "9d84ecff-432b-4922-a40a-436c4127413e",
   "metadata": {},
   "outputs": [
    {
     "data": {
      "text/plain": [
       "<1x5000 sparse matrix of type '<class 'numpy.int64'>'\n",
       "\twith 170 stored elements in Compressed Sparse Row format>"
      ]
     },
     "execution_count": 10,
     "metadata": {},
     "output_type": "execute_result"
    }
   ],
   "source": [
    "\n",
    "y_pred1 = cv.transform(headlines)\n",
    "y_pred1\n"
   ]
  },
  {
   "cell_type": "code",
   "execution_count": 11,
   "id": "5c6d5929",
   "metadata": {},
   "outputs": [],
   "source": [
    "prediction=y_pred1.toarray()\n"
   ]
  },
  {
   "cell_type": "code",
   "execution_count": 12,
   "id": "a8c53fe3",
   "metadata": {},
   "outputs": [
    {
     "data": {
      "text/plain": [
       "'politics'"
      ]
     },
     "execution_count": 12,
     "metadata": {},
     "output_type": "execute_result"
    }
   ],
   "source": [
    "classi.predict(prediction)[0]\n"
   ]
  },
  {
   "cell_type": "code",
   "execution_count": 13,
   "id": "48dfe487",
   "metadata": {},
   "outputs": [
    {
     "name": "stdout",
     "output_type": "stream",
     "text": [
      "ocean twelve raid box office ocean twelve crime caper sequel starring george clooney brad pitt julia robert gone straight number one u box office chart took 40 8m 21m weekend ticket sale according studio estimate sequel follows master criminal try pull three major heist across europe knocked last week number one national treasure third place wesley snipe blade trinity second taking 16 1m 8 4m rounding top five animated fable polar express starring tom hank festive comedy christmas kranks ocean twelve box office triumph mark fourth biggest opening december release u three film lord ring trilogy sequel narrowly beat 2001 predecessor ocean eleven took 38 1m 19 8m opening weekend 184m 95 8m total remake 1960s film starring frank sinatra rat pack ocean eleven directed oscar winning director steven soderbergh soderbergh return direct hit sequel reunites clooney pitt robert matt damon andy garcia elliott gould catherine zeta jones join star cast fun good holiday movie said dan fellman president distribution warner bros however u critic le complimentary 110m 57 2m project los angeles time labelling dispiriting vanity project milder review new york time dubbed sequel unabashedly trivial\n",
      "entertainment\n"
     ]
    }
   ],
   "source": [
    "#test 2\n",
    "info2=df['clean_text'][4]\n",
    "print(info2)\n",
    "print(df['category'][4])\n"
   ]
  },
  {
   "cell_type": "code",
   "execution_count": 16,
   "id": "878fc122",
   "metadata": {},
   "outputs": [
    {
     "name": "stdout",
     "output_type": "stream",
     "text": [
      "['ocean twelve raid box office ocean twelve crime caper sequel starring george clooney brad pitt julia robert gone straight number one u box office chart took 40 8m 21m weekend ticket sale according studio estimate sequel follows master criminal try pull three major heist across europe knocked last week number one national treasure third place wesley snipe blade trinity second taking 16 1m 8 4m rounding top five animated fable polar express starring tom hank festive comedy christmas kranks ocean twelve box office triumph mark fourth biggest opening december release u three film lord ring trilogy sequel narrowly beat 2001 predecessor ocean eleven took 38 1m 19 8m opening weekend 184m 95 8m total remake 1960s film starring frank sinatra rat pack ocean eleven directed oscar winning director steven soderbergh soderbergh return direct hit sequel reunites clooney pitt robert matt damon andy garcia elliott gould catherine zeta jones join star cast fun good holiday movie said dan fellman president distribution warner bros however u critic le complimentary 110m 57 2m project los angeles time labelling dispiriting vanity project milder review new york time dubbed sequel unabashedly trivial']\n",
      "[[0 0 0 ... 0 0 0]]\n"
     ]
    },
    {
     "data": {
      "text/plain": [
       "array(['entertainment'], dtype='<U13')"
      ]
     },
     "execution_count": 16,
     "metadata": {},
     "output_type": "execute_result"
    }
   ],
   "source": [
    "test2=[clean_text(info2)]\n",
    "print(test2)\n",
    "ypred2 = (cv.transform(test2)).toarray()\n",
    "print(ypred2)\n",
    "classi.predict(ypred2)\n",
    "# prediction=ypred.toarray()\n",
    "# print(prediction)\n",
    "# classi.predict(prediction)[0]\n",
    "# y_pred2 = (tf.transform(test2)).toarray()\n",
    "# classi.predict(y_pred2)[0]\n",
    "#model_prediction=y_pred2.toarray()\n",
    "#classi.predict(model_prediction)[0]\n"
   ]
  },
  {
   "cell_type": "code",
   "execution_count": 3,
   "id": "ec772f65",
   "metadata": {},
   "outputs": [],
   "source": [
    "models=[\n",
    "        SVC(kernel='linear'),\n",
    "        LinearSVC(),\n",
    "        KNeighborsClassifier(),\n",
    "        MultinomialNB(),\n",
    "\n",
    "        ]\n",
    "            "
   ]
  },
  {
   "cell_type": "code",
   "execution_count": 12,
   "id": "b21e73de",
   "metadata": {},
   "outputs": [
    {
     "name": "stdout",
     "output_type": "stream",
     "text": [
      "SVC(kernel='linear')\n"
     ]
    },
    {
     "ename": "TypeError",
     "evalue": "list indices must be integers or slices, not SVC",
     "output_type": "error",
     "traceback": [
      "\u001b[1;31m---------------------------------------------------------------------------\u001b[0m",
      "\u001b[1;31mTypeError\u001b[0m                                 Traceback (most recent call last)",
      "Cell \u001b[1;32mIn[12], line 7\u001b[0m\n\u001b[0;32m      3\u001b[0m     \u001b[38;5;28mprint\u001b[39m(i)\n\u001b[0;32m      4\u001b[0m     \u001b[38;5;66;03m# model=\u001b[39;00m\n\u001b[0;32m      5\u001b[0m \u001b[38;5;66;03m# for i in range(len(list(models))):\u001b[39;00m\n\u001b[0;32m      6\u001b[0m \u001b[38;5;66;03m#     print(i)\u001b[39;00m\n\u001b[1;32m----> 7\u001b[0m     model \u001b[38;5;241m=\u001b[39m \u001b[38;5;28;43mlist\u001b[39;49m\u001b[43m(\u001b[49m\u001b[43mmodels\u001b[49m\u001b[43m)\u001b[49m\u001b[43m[\u001b[49m\u001b[43mi\u001b[49m\u001b[43m]\u001b[49m\n\u001b[0;32m      8\u001b[0m     \u001b[38;5;28mprint\u001b[39m(model)\n",
      "\u001b[1;31mTypeError\u001b[0m: list indices must be integers or slices, not SVC"
     ]
    }
   ],
   "source": [
    "perform_list = []\n",
    "for i in models:\n",
    "    print(i)\n",
    "    # model=\n",
    "\n"
   ]
  },
  {
   "cell_type": "code",
   "execution_count": null,
   "id": "d2192031",
   "metadata": {},
   "outputs": [],
   "source": []
  }
 ],
 "metadata": {
  "kernelspec": {
   "display_name": "Python 3",
   "language": "python",
   "name": "python3"
  },
  "language_info": {
   "codemirror_mode": {
    "name": "ipython",
    "version": 3
   },
   "file_extension": ".py",
   "mimetype": "text/x-python",
   "name": "python",
   "nbconvert_exporter": "python",
   "pygments_lexer": "ipython3",
   "version": "3.11.8"
  }
 },
 "nbformat": 4,
 "nbformat_minor": 5
}
