{
 "cells": [
  {
   "cell_type": "code",
   "execution_count": 1,
   "id": "69cd29a7-a9da-4e30-9390-d0d9c3fb9766",
   "metadata": {
    "tags": []
   },
   "outputs": [
    {
     "name": "stdout",
     "output_type": "stream",
     "text": [
      "Requirement already satisfied: nltk in c:\\users\\sudwa\\anaconda3\\lib\\site-packages (3.8.1)\n",
      "Requirement already satisfied: click in c:\\users\\sudwa\\anaconda3\\lib\\site-packages (from nltk) (8.1.7)\n",
      "Requirement already satisfied: joblib in c:\\users\\sudwa\\anaconda3\\lib\\site-packages (from nltk) (1.2.0)\n",
      "Requirement already satisfied: regex>=2021.8.3 in c:\\users\\sudwa\\anaconda3\\lib\\site-packages (from nltk) (2022.7.9)\n",
      "Requirement already satisfied: tqdm in c:\\users\\sudwa\\anaconda3\\lib\\site-packages (from nltk) (4.65.0)\n",
      "Requirement already satisfied: colorama in c:\\users\\sudwa\\anaconda3\\lib\\site-packages (from click->nltk) (0.4.6)\n"
     ]
    }
   ],
   "source": [
    "!pip install nltk\n"
   ]
  },
  {
   "cell_type": "code",
   "execution_count": 1,
   "id": "d84f6326-4e2a-4c35-b85b-02e85eaf89e7",
   "metadata": {
    "tags": []
   },
   "outputs": [
    {
     "name": "stderr",
     "output_type": "stream",
     "text": [
      "[nltk_data] Downloading package stopwords to\n",
      "[nltk_data]     C:\\Users\\sudwa\\AppData\\Roaming\\nltk_data...\n",
      "[nltk_data]   Package stopwords is already up-to-date!\n",
      "[nltk_data] Downloading package wordnet to\n",
      "[nltk_data]     C:\\Users\\sudwa\\AppData\\Roaming\\nltk_data...\n",
      "[nltk_data]   Package wordnet is already up-to-date!\n",
      "[nltk_data] Downloading package punkt to\n",
      "[nltk_data]     C:\\Users\\sudwa\\AppData\\Roaming\\nltk_data...\n",
      "[nltk_data]   Package punkt is already up-to-date!\n"
     ]
    }
   ],
   "source": [
    "import pandas as pd\n",
    "import numpy as np\n",
    "import re\n",
    "import matplotlib.pyplot as plt \n",
    "import seaborn as sns\n",
    "import nltk\n",
    "from nltk.corpus import stopwords\n",
    "nltk.download('stopwords')\n",
    "import unidecode\n",
    "from nltk.stem import WordNetLemmatizer\n",
    "nltk.download('wordnet')\n",
    "from nltk.stem import PorterStemmer\n",
    "nltk.download('punkt')\n",
    "from nltk.stem import WordNetLemmatizer\n",
    "lemmatizer = WordNetLemmatizer()\n",
    "from nltk.tokenize import word_tokenize\n",
    "from nltk.tokenize import sent_tokenize\n",
    "\n",
    "import warnings \n",
    "warnings.filterwarnings(\"ignore\")\n"
   ]
  },
  {
   "cell_type": "code",
   "execution_count": 2,
   "id": "643810d5-a1bc-426f-8f67-b337fc314d55",
   "metadata": {
    "tags": []
   },
   "outputs": [
    {
     "data": {
      "text/html": [
       "<div>\n",
       "<style scoped>\n",
       "    .dataframe tbody tr th:only-of-type {\n",
       "        vertical-align: middle;\n",
       "    }\n",
       "\n",
       "    .dataframe tbody tr th {\n",
       "        vertical-align: top;\n",
       "    }\n",
       "\n",
       "    .dataframe thead th {\n",
       "        text-align: right;\n",
       "    }\n",
       "</style>\n",
       "<table border=\"1\" class=\"dataframe\">\n",
       "  <thead>\n",
       "    <tr style=\"text-align: right;\">\n",
       "      <th></th>\n",
       "      <th>link</th>\n",
       "      <th>headline</th>\n",
       "      <th>category</th>\n",
       "      <th>short_description</th>\n",
       "      <th>authors</th>\n",
       "      <th>date</th>\n",
       "    </tr>\n",
       "  </thead>\n",
       "  <tbody>\n",
       "    <tr>\n",
       "      <th>0</th>\n",
       "      <td>https://www.huffpost.com/entry/covid-boosters-...</td>\n",
       "      <td>Over 4 Million Americans Roll Up Sleeves For O...</td>\n",
       "      <td>U.S. NEWS</td>\n",
       "      <td>Health experts said it is too early to predict...</td>\n",
       "      <td>Carla K. Johnson, AP</td>\n",
       "      <td>2022-09-23</td>\n",
       "    </tr>\n",
       "    <tr>\n",
       "      <th>1</th>\n",
       "      <td>https://www.huffpost.com/entry/american-airlin...</td>\n",
       "      <td>American Airlines Flyer Charged, Banned For Li...</td>\n",
       "      <td>U.S. NEWS</td>\n",
       "      <td>He was subdued by passengers and crew when he ...</td>\n",
       "      <td>Mary Papenfuss</td>\n",
       "      <td>2022-09-23</td>\n",
       "    </tr>\n",
       "    <tr>\n",
       "      <th>2</th>\n",
       "      <td>https://www.huffpost.com/entry/funniest-tweets...</td>\n",
       "      <td>23 Of The Funniest Tweets About Cats And Dogs ...</td>\n",
       "      <td>COMEDY</td>\n",
       "      <td>\"Until you have a dog you don't understand wha...</td>\n",
       "      <td>Elyse Wanshel</td>\n",
       "      <td>2022-09-23</td>\n",
       "    </tr>\n",
       "    <tr>\n",
       "      <th>3</th>\n",
       "      <td>https://www.huffpost.com/entry/funniest-parent...</td>\n",
       "      <td>The Funniest Tweets From Parents This Week (Se...</td>\n",
       "      <td>PARENTING</td>\n",
       "      <td>\"Accidentally put grown-up toothpaste on my to...</td>\n",
       "      <td>Caroline Bologna</td>\n",
       "      <td>2022-09-23</td>\n",
       "    </tr>\n",
       "    <tr>\n",
       "      <th>4</th>\n",
       "      <td>https://www.huffpost.com/entry/amy-cooper-lose...</td>\n",
       "      <td>Woman Who Called Cops On Black Bird-Watcher Lo...</td>\n",
       "      <td>U.S. NEWS</td>\n",
       "      <td>Amy Cooper accused investment firm Franklin Te...</td>\n",
       "      <td>Nina Golgowski</td>\n",
       "      <td>2022-09-22</td>\n",
       "    </tr>\n",
       "  </tbody>\n",
       "</table>\n",
       "</div>"
      ],
      "text/plain": [
       "                                                link  \\\n",
       "0  https://www.huffpost.com/entry/covid-boosters-...   \n",
       "1  https://www.huffpost.com/entry/american-airlin...   \n",
       "2  https://www.huffpost.com/entry/funniest-tweets...   \n",
       "3  https://www.huffpost.com/entry/funniest-parent...   \n",
       "4  https://www.huffpost.com/entry/amy-cooper-lose...   \n",
       "\n",
       "                                            headline   category  \\\n",
       "0  Over 4 Million Americans Roll Up Sleeves For O...  U.S. NEWS   \n",
       "1  American Airlines Flyer Charged, Banned For Li...  U.S. NEWS   \n",
       "2  23 Of The Funniest Tweets About Cats And Dogs ...     COMEDY   \n",
       "3  The Funniest Tweets From Parents This Week (Se...  PARENTING   \n",
       "4  Woman Who Called Cops On Black Bird-Watcher Lo...  U.S. NEWS   \n",
       "\n",
       "                                   short_description               authors  \\\n",
       "0  Health experts said it is too early to predict...  Carla K. Johnson, AP   \n",
       "1  He was subdued by passengers and crew when he ...        Mary Papenfuss   \n",
       "2  \"Until you have a dog you don't understand wha...         Elyse Wanshel   \n",
       "3  \"Accidentally put grown-up toothpaste on my to...      Caroline Bologna   \n",
       "4  Amy Cooper accused investment firm Franklin Te...        Nina Golgowski   \n",
       "\n",
       "        date  \n",
       "0 2022-09-23  \n",
       "1 2022-09-23  \n",
       "2 2022-09-23  \n",
       "3 2022-09-23  \n",
       "4 2022-09-22  "
      ]
     },
     "execution_count": 2,
     "metadata": {},
     "output_type": "execute_result"
    }
   ],
   "source": [
    "df = pd.read_json('news_category.json', lines=True)\n",
    "df.head()\n"
   ]
  },
  {
   "cell_type": "code",
   "execution_count": 3,
   "id": "40d6498f-2fbd-497c-a3dc-43b05f40962f",
   "metadata": {
    "tags": []
   },
   "outputs": [
    {
     "name": "stdout",
     "output_type": "stream",
     "text": [
      "<class 'pandas.core.frame.DataFrame'>\n",
      "RangeIndex: 209527 entries, 0 to 209526\n",
      "Data columns (total 6 columns):\n",
      " #   Column             Non-Null Count   Dtype         \n",
      "---  ------             --------------   -----         \n",
      " 0   link               209527 non-null  object        \n",
      " 1   headline           209527 non-null  object        \n",
      " 2   category           209527 non-null  object        \n",
      " 3   short_description  209527 non-null  object        \n",
      " 4   authors            209527 non-null  object        \n",
      " 5   date               209527 non-null  datetime64[ns]\n",
      "dtypes: datetime64[ns](1), object(5)\n",
      "memory usage: 9.6+ MB\n"
     ]
    }
   ],
   "source": [
    "df.info()\n"
   ]
  },
  {
   "cell_type": "code",
   "execution_count": 4,
   "id": "f66173fd-aeef-400b-8bc6-9e19bac86414",
   "metadata": {
    "tags": []
   },
   "outputs": [
    {
     "data": {
      "text/plain": [
       "Index(['link', 'headline', 'category', 'short_description', 'authors', 'date'], dtype='object')"
      ]
     },
     "execution_count": 4,
     "metadata": {},
     "output_type": "execute_result"
    }
   ],
   "source": [
    "df.columns\n"
   ]
  },
  {
   "cell_type": "code",
   "execution_count": 5,
   "id": "85a625cc-b1a6-4757-bab2-5e121026c51a",
   "metadata": {
    "tags": []
   },
   "outputs": [
    {
     "data": {
      "text/plain": [
       "link                 0\n",
       "headline             0\n",
       "category             0\n",
       "short_description    0\n",
       "authors              0\n",
       "date                 0\n",
       "dtype: int64"
      ]
     },
     "execution_count": 5,
     "metadata": {},
     "output_type": "execute_result"
    }
   ],
   "source": [
    "df.isnull().sum()\n"
   ]
  },
  {
   "cell_type": "code",
   "execution_count": 6,
   "id": "c59b265b-d9aa-43e3-b4cb-3d7735e8afb5",
   "metadata": {
    "tags": []
   },
   "outputs": [
    {
     "data": {
      "text/plain": [
       "array(['U.S. NEWS', 'COMEDY', 'PARENTING', 'WORLD NEWS', 'CULTURE & ARTS',\n",
       "       'TECH', 'SPORTS', 'ENTERTAINMENT', 'POLITICS', 'WEIRD NEWS',\n",
       "       'ENVIRONMENT', 'EDUCATION', 'CRIME', 'SCIENCE', 'WELLNESS',\n",
       "       'BUSINESS', 'STYLE & BEAUTY', 'FOOD & DRINK', 'MEDIA',\n",
       "       'QUEER VOICES', 'HOME & LIVING', 'WOMEN', 'BLACK VOICES', 'TRAVEL',\n",
       "       'MONEY', 'RELIGION', 'LATINO VOICES', 'IMPACT', 'WEDDINGS',\n",
       "       'COLLEGE', 'PARENTS', 'ARTS & CULTURE', 'STYLE', 'GREEN', 'TASTE',\n",
       "       'HEALTHY LIVING', 'THE WORLDPOST', 'GOOD NEWS', 'WORLDPOST',\n",
       "       'FIFTY', 'ARTS', 'DIVORCE'], dtype=object)"
      ]
     },
     "execution_count": 6,
     "metadata": {},
     "output_type": "execute_result"
    }
   ],
   "source": [
    "df['category'].unique()\n"
   ]
  },
  {
   "cell_type": "code",
   "execution_count": 7,
   "id": "b5b8f3ec-d581-43dc-86de-ea05a2a0cef6",
   "metadata": {
    "tags": []
   },
   "outputs": [
    {
     "data": {
      "text/plain": [
       "category\n",
       "POLITICS          35602\n",
       "WELLNESS          17945\n",
       "ENTERTAINMENT     17362\n",
       "TRAVEL             9900\n",
       "STYLE & BEAUTY     9814\n",
       "PARENTING          8791\n",
       "HEALTHY LIVING     6694\n",
       "QUEER VOICES       6347\n",
       "FOOD & DRINK       6340\n",
       "BUSINESS           5992\n",
       "COMEDY             5400\n",
       "SPORTS             5077\n",
       "BLACK VOICES       4583\n",
       "HOME & LIVING      4320\n",
       "PARENTS            3955\n",
       "THE WORLDPOST      3664\n",
       "WEDDINGS           3653\n",
       "WOMEN              3572\n",
       "CRIME              3562\n",
       "IMPACT             3484\n",
       "DIVORCE            3426\n",
       "WORLD NEWS         3299\n",
       "MEDIA              2944\n",
       "WEIRD NEWS         2777\n",
       "GREEN              2622\n",
       "WORLDPOST          2579\n",
       "RELIGION           2577\n",
       "STYLE              2254\n",
       "SCIENCE            2206\n",
       "TECH               2104\n",
       "TASTE              2096\n",
       "MONEY              1756\n",
       "ARTS               1509\n",
       "ENVIRONMENT        1444\n",
       "FIFTY              1401\n",
       "GOOD NEWS          1398\n",
       "U.S. NEWS          1377\n",
       "ARTS & CULTURE     1339\n",
       "COLLEGE            1144\n",
       "LATINO VOICES      1130\n",
       "CULTURE & ARTS     1074\n",
       "EDUCATION          1014\n",
       "Name: count, dtype: int64"
      ]
     },
     "execution_count": 7,
     "metadata": {},
     "output_type": "execute_result"
    }
   ],
   "source": [
    "df['category'].value_counts()\n"
   ]
  },
  {
   "cell_type": "code",
   "execution_count": 8,
   "id": "d0aa9505-fe5d-453a-8f75-71e245cacd76",
   "metadata": {
    "tags": []
   },
   "outputs": [],
   "source": [
    "# worldpost and the worldpost\n",
    "df.category = df.category.map(lambda x: \"WORLDPOST\" if x == \"THE WORLDPOST\" else x)"
   ]
  },
  {
   "cell_type": "code",
   "execution_count": 9,
   "id": "44adf699-f1dc-44d3-b133-e71a01475121",
   "metadata": {
    "tags": []
   },
   "outputs": [
    {
     "data": {
      "text/plain": [
       "'American Airlines Flyer Charged, Banned For Life After Punching Flight Attendant On Video'"
      ]
     },
     "execution_count": 9,
     "metadata": {},
     "output_type": "execute_result"
    }
   ],
   "source": [
    "df['headline'][1]"
   ]
  },
  {
   "cell_type": "code",
   "execution_count": 10,
   "id": "fe791e33-e011-4004-80cb-716e52ed8eea",
   "metadata": {
    "tags": []
   },
   "outputs": [
    {
     "data": {
      "text/plain": [
       "\"He was subdued by passengers and crew when he fled to the back of the aircraft after the confrontation, according to the U.S. attorney's office in Los Angeles.\""
      ]
     },
     "execution_count": 10,
     "metadata": {},
     "output_type": "execute_result"
    }
   ],
   "source": [
    "df['short_description'][1]\n"
   ]
  },
  {
   "cell_type": "code",
   "execution_count": 11,
   "id": "7d9bd97d-37ea-423e-a9c7-818d96a93cf8",
   "metadata": {
    "tags": []
   },
   "outputs": [
    {
     "data": {
      "text/plain": [
       "\"American Airlines Flyer Charged, Banned For Life After Punching Flight Attendant On Video He was subdued by passengers and crew when he fled to the back of the aircraft after the confrontation, according to the U.S. attorney's office in Los Angeles.\""
      ]
     },
     "execution_count": 11,
     "metadata": {},
     "output_type": "execute_result"
    }
   ],
   "source": [
    "df['news']=df['headline']+ \" \"+df['short_description']\n",
    "#df.head()\n",
    "df['news'][1]"
   ]
  },
  {
   "cell_type": "code",
   "execution_count": 12,
   "id": "1f4603e8-35e3-423b-9621-c11146c6245b",
   "metadata": {
    "tags": []
   },
   "outputs": [],
   "source": [
    "#df=df[['news', 'category']]\n",
    "#df.head(5)"
   ]
  },
  {
   "cell_type": "code",
   "execution_count": 13,
   "id": "e4b89a8d-2f4f-4973-89de-72407d7b1dd8",
   "metadata": {
    "tags": []
   },
   "outputs": [
    {
     "data": {
      "text/plain": [
       "<Axes: xlabel='category'>"
      ]
     },
     "execution_count": 13,
     "metadata": {},
     "output_type": "execute_result"
    },
    {
     "data": {
      "image/png": "[encoded data removed]",
      "text/plain": [
       "<Figure size 640x480 with 1 Axes>"
      ]
     },
     "metadata": {},
     "output_type": "display_data"
    }
   ],
   "source": [
    "# check target balance\n",
    "df['category'].value_counts(normalize = True).plot.bar()\n"
   ]
  },
  {
   "cell_type": "code",
   "execution_count": 14,
   "id": "9b021230-b93e-4607-9f5f-947a1d2b0414",
   "metadata": {
    "tags": []
   },
   "outputs": [
    {
     "data": {
      "text/plain": [
       "'Over 4 Million Americans Roll Up Sleeves For Omicron-Targeted COVID Boosters Health experts said it is too early to predict whether demand would match up with the 171 million doses of the new boosters the U.S. ordered for the fall.'"
      ]
     },
     "execution_count": 14,
     "metadata": {},
     "output_type": "execute_result"
    }
   ],
   "source": [
    "df['news'][0]"
   ]
  },
  {
   "cell_type": "code",
   "execution_count": 20,
   "id": "48017413-212c-4a9d-8916-51dfdd17ce85",
   "metadata": {
    "tags": []
   },
   "outputs": [
    {
     "data": {
      "text/html": [
       "<div>\n",
       "<style scoped>\n",
       "    .dataframe tbody tr th:only-of-type {\n",
       "        vertical-align: middle;\n",
       "    }\n",
       "\n",
       "    .dataframe tbody tr th {\n",
       "        vertical-align: top;\n",
       "    }\n",
       "\n",
       "    .dataframe thead th {\n",
       "        text-align: right;\n",
       "    }\n",
       "</style>\n",
       "<table border=\"1\" class=\"dataframe\">\n",
       "  <thead>\n",
       "    <tr style=\"text-align: right;\">\n",
       "      <th></th>\n",
       "      <th>link</th>\n",
       "      <th>headline</th>\n",
       "      <th>category</th>\n",
       "      <th>short_description</th>\n",
       "      <th>authors</th>\n",
       "      <th>date</th>\n",
       "      <th>news</th>\n",
       "    </tr>\n",
       "  </thead>\n",
       "  <tbody>\n",
       "    <tr>\n",
       "      <th>0</th>\n",
       "      <td>https://www.huffpost.com/entry/covid-boosters-...</td>\n",
       "      <td>Over 4 Million Americans Roll Up Sleeves For O...</td>\n",
       "      <td>U.S. NEWS</td>\n",
       "      <td>Health experts said it is too early to predict...</td>\n",
       "      <td>Carla K. Johnson, AP</td>\n",
       "      <td>2022-09-23</td>\n",
       "      <td>Over 4 Million Americans Roll Up Sleeves For O...</td>\n",
       "    </tr>\n",
       "    <tr>\n",
       "      <th>25</th>\n",
       "      <td>https://www.huffpost.com/entry/mark-frerichs-r...</td>\n",
       "      <td>Family Of American Held In Afghanistan Says He...</td>\n",
       "      <td>U.S. NEWS</td>\n",
       "      <td>Mark Frerichs, a Navy veteran and civilian con...</td>\n",
       "      <td>Eric Tucker and Rahim Faiez, AP</td>\n",
       "      <td>2022-09-19</td>\n",
       "      <td>Family Of American Held In Afghanistan Says He...</td>\n",
       "    </tr>\n",
       "    <tr>\n",
       "      <th>50</th>\n",
       "      <td>https://www.huffpost.com/entry/cardi-b-bronx-s...</td>\n",
       "      <td>Cardi B Donates $100,000 To Her Old Middle Sch...</td>\n",
       "      <td>ENTERTAINMENT</td>\n",
       "      <td>The Grammy-winning rapper surprised star-struc...</td>\n",
       "      <td>Marco Margaritoff</td>\n",
       "      <td>2022-09-14</td>\n",
       "      <td>Cardi B Donates $100,000 To Her Old Middle Sch...</td>\n",
       "    </tr>\n",
       "    <tr>\n",
       "      <th>75</th>\n",
       "      <td>https://www.huffpost.com/entry/bc-eu-russia-uk...</td>\n",
       "      <td>Russia Says It's Pulling Back Forces From Ukra...</td>\n",
       "      <td>WORLD NEWS</td>\n",
       "      <td>Russia’s Defense Ministry announced that troop...</td>\n",
       "      <td>KARL RITTER and JOANNA KOZLOWSKA, AP</td>\n",
       "      <td>2022-09-10</td>\n",
       "      <td>Russia Says It's Pulling Back Forces From Ukra...</td>\n",
       "    </tr>\n",
       "    <tr>\n",
       "      <th>100</th>\n",
       "      <td>https://www.huffpost.com/entry/us-russia-to-bu...</td>\n",
       "      <td>U.S.: Russia To Buy Rockets, Artillery Shells ...</td>\n",
       "      <td>WORLD NEWS</td>\n",
       "      <td>The finding comes after the Biden administrati...</td>\n",
       "      <td>Aamer Madhani, AP</td>\n",
       "      <td>2022-09-06</td>\n",
       "      <td>U.S.: Russia To Buy Rockets, Artillery Shells ...</td>\n",
       "    </tr>\n",
       "    <tr>\n",
       "      <th>...</th>\n",
       "      <td>...</td>\n",
       "      <td>...</td>\n",
       "      <td>...</td>\n",
       "      <td>...</td>\n",
       "      <td>...</td>\n",
       "      <td>...</td>\n",
       "      <td>...</td>\n",
       "    </tr>\n",
       "    <tr>\n",
       "      <th>209425</th>\n",
       "      <td>https://www.huffingtonpost.com/entry/light-of-...</td>\n",
       "      <td>Darkness Ain't Cool</td>\n",
       "      <td>BLACK VOICES</td>\n",
       "      <td>If being in the dark sucks so much, why would ...</td>\n",
       "      <td>Alisha L. Gordon, Contributor\\nContributor</td>\n",
       "      <td>2012-01-29</td>\n",
       "      <td>Darkness Ain't Cool If being in the dark sucks...</td>\n",
       "    </tr>\n",
       "    <tr>\n",
       "      <th>209450</th>\n",
       "      <td>https://www.huffingtonpost.comhttp://insidetv....</td>\n",
       "      <td>World Preview Of Madonna's 'Give Me All Your L...</td>\n",
       "      <td>ENTERTAINMENT</td>\n",
       "      <td>Fox and American Idol snagged the exclusive wo...</td>\n",
       "      <td></td>\n",
       "      <td>2012-01-29</td>\n",
       "      <td>World Preview Of Madonna's 'Give Me All Your L...</td>\n",
       "    </tr>\n",
       "    <tr>\n",
       "      <th>209475</th>\n",
       "      <td>https://www.huffingtonpost.com/entry/louis-vui...</td>\n",
       "      <td>Caroline Sieber And Lauren Santo Domingo In Lo...</td>\n",
       "      <td>STYLE &amp; BEAUTY</td>\n",
       "      <td>WHAT: Two of the fashion industry's most styli...</td>\n",
       "      <td>Brooke Bobb</td>\n",
       "      <td>2012-01-28</td>\n",
       "      <td>Caroline Sieber And Lauren Santo Domingo In Lo...</td>\n",
       "    </tr>\n",
       "    <tr>\n",
       "      <th>209500</th>\n",
       "      <td>https://www.huffingtonpost.com/entry/maternal-...</td>\n",
       "      <td>Pregnant and Displaced: Double the Danger</td>\n",
       "      <td>IMPACT</td>\n",
       "      <td>It's time we all step up our efforts to ensure...</td>\n",
       "      <td>Sarah Costa, Contributor\\nExecutive Director o...</td>\n",
       "      <td>2012-01-28</td>\n",
       "      <td>Pregnant and Displaced: Double the Danger It's...</td>\n",
       "    </tr>\n",
       "    <tr>\n",
       "      <th>209525</th>\n",
       "      <td>https://www.huffingtonpost.com/entry/aldon-smi...</td>\n",
       "      <td>Aldon Smith Arrested: 49ers Linebacker Busted ...</td>\n",
       "      <td>SPORTS</td>\n",
       "      <td>CORRECTION: An earlier version of this story i...</td>\n",
       "      <td></td>\n",
       "      <td>2012-01-28</td>\n",
       "      <td>Aldon Smith Arrested: 49ers Linebacker Busted ...</td>\n",
       "    </tr>\n",
       "  </tbody>\n",
       "</table>\n",
       "<p>8382 rows × 7 columns</p>\n",
       "</div>"
      ],
      "text/plain": [
       "                                                     link  \\\n",
       "0       https://www.huffpost.com/entry/covid-boosters-...   \n",
       "25      https://www.huffpost.com/entry/mark-frerichs-r...   \n",
       "50      https://www.huffpost.com/entry/cardi-b-bronx-s...   \n",
       "75      https://www.huffpost.com/entry/bc-eu-russia-uk...   \n",
       "100     https://www.huffpost.com/entry/us-russia-to-bu...   \n",
       "...                                                   ...   \n",
       "209425  https://www.huffingtonpost.com/entry/light-of-...   \n",
       "209450  https://www.huffingtonpost.comhttp://insidetv....   \n",
       "209475  https://www.huffingtonpost.com/entry/louis-vui...   \n",
       "209500  https://www.huffingtonpost.com/entry/maternal-...   \n",
       "209525  https://www.huffingtonpost.com/entry/aldon-smi...   \n",
       "\n",
       "                                                 headline        category  \\\n",
       "0       Over 4 Million Americans Roll Up Sleeves For O...       U.S. NEWS   \n",
       "25      Family Of American Held In Afghanistan Says He...       U.S. NEWS   \n",
       "50      Cardi B Donates $100,000 To Her Old Middle Sch...   ENTERTAINMENT   \n",
       "75      Russia Says It's Pulling Back Forces From Ukra...      WORLD NEWS   \n",
       "100     U.S.: Russia To Buy Rockets, Artillery Shells ...      WORLD NEWS   \n",
       "...                                                   ...             ...   \n",
       "209425                                Darkness Ain't Cool    BLACK VOICES   \n",
       "209450  World Preview Of Madonna's 'Give Me All Your L...   ENTERTAINMENT   \n",
       "209475  Caroline Sieber And Lauren Santo Domingo In Lo...  STYLE & BEAUTY   \n",
       "209500          Pregnant and Displaced: Double the Danger          IMPACT   \n",
       "209525  Aldon Smith Arrested: 49ers Linebacker Busted ...          SPORTS   \n",
       "\n",
       "                                        short_description  \\\n",
       "0       Health experts said it is too early to predict...   \n",
       "25      Mark Frerichs, a Navy veteran and civilian con...   \n",
       "50      The Grammy-winning rapper surprised star-struc...   \n",
       "75      Russia’s Defense Ministry announced that troop...   \n",
       "100     The finding comes after the Biden administrati...   \n",
       "...                                                   ...   \n",
       "209425  If being in the dark sucks so much, why would ...   \n",
       "209450  Fox and American Idol snagged the exclusive wo...   \n",
       "209475  WHAT: Two of the fashion industry's most styli...   \n",
       "209500  It's time we all step up our efforts to ensure...   \n",
       "209525  CORRECTION: An earlier version of this story i...   \n",
       "\n",
       "                                                  authors       date  \\\n",
       "0                                    Carla K. Johnson, AP 2022-09-23   \n",
       "25                        Eric Tucker and Rahim Faiez, AP 2022-09-19   \n",
       "50                                      Marco Margaritoff 2022-09-14   \n",
       "75                   KARL RITTER and JOANNA KOZLOWSKA, AP 2022-09-10   \n",
       "100                                     Aamer Madhani, AP 2022-09-06   \n",
       "...                                                   ...        ...   \n",
       "209425         Alisha L. Gordon, Contributor\\nContributor 2012-01-29   \n",
       "209450                                                    2012-01-29   \n",
       "209475                                        Brooke Bobb 2012-01-28   \n",
       "209500  Sarah Costa, Contributor\\nExecutive Director o... 2012-01-28   \n",
       "209525                                                    2012-01-28   \n",
       "\n",
       "                                                     news  \n",
       "0       Over 4 Million Americans Roll Up Sleeves For O...  \n",
       "25      Family Of American Held In Afghanistan Says He...  \n",
       "50      Cardi B Donates $100,000 To Her Old Middle Sch...  \n",
       "75      Russia Says It's Pulling Back Forces From Ukra...  \n",
       "100     U.S.: Russia To Buy Rockets, Artillery Shells ...  \n",
       "...                                                   ...  \n",
       "209425  Darkness Ain't Cool If being in the dark sucks...  \n",
       "209450  World Preview Of Madonna's 'Give Me All Your L...  \n",
       "209475  Caroline Sieber And Lauren Santo Domingo In Lo...  \n",
       "209500  Pregnant and Displaced: Double the Danger It's...  \n",
       "209525  Aldon Smith Arrested: 49ers Linebacker Busted ...  \n",
       "\n",
       "[8382 rows x 7 columns]"
      ]
     },
     "execution_count": 20,
     "metadata": {},
     "output_type": "execute_result"
    }
   ],
   "source": [
    "# small_df=df.iloc[::25]\n",
    "# small_df"
   ]
  },
  {
   "cell_type": "code",
   "execution_count": 21,
   "id": "7b5d71f1-736c-4b43-afaa-83aa6228c900",
   "metadata": {
    "tags": []
   },
   "outputs": [
    {
     "data": {
      "text/plain": [
       "array(['U.S. NEWS', 'ENTERTAINMENT', 'WORLD NEWS', 'POLITICS', 'MEDIA',\n",
       "       'WOMEN', 'PARENTING', 'CRIME', 'SPORTS', 'STYLE & BEAUTY',\n",
       "       'WELLNESS', 'BLACK VOICES', 'FOOD & DRINK', 'HOME & LIVING',\n",
       "       'COMEDY', 'WEIRD NEWS', 'SCIENCE', 'BUSINESS', 'QUEER VOICES',\n",
       "       'TRAVEL', 'IMPACT', 'ENVIRONMENT', 'MONEY', 'RELIGION',\n",
       "       'LATINO VOICES', 'TECH', 'EDUCATION', 'ARTS & CULTURE', 'STYLE',\n",
       "       'GREEN', 'HEALTHY LIVING', 'TASTE', 'PARENTS', 'COLLEGE',\n",
       "       'WORLDPOST', 'GOOD NEWS', 'FIFTY', 'ARTS', 'DIVORCE', 'WEDDINGS',\n",
       "       'CULTURE & ARTS'], dtype=object)"
      ]
     },
     "execution_count": 21,
     "metadata": {},
     "output_type": "execute_result"
    }
   ],
   "source": [
    "small_df['category'].unique()"
   ]
  },
  {
   "cell_type": "code",
   "execution_count": null,
   "id": "e2727522-89b4-40c8-9568-d75b43ae7fbe",
   "metadata": {},
   "outputs": [],
   "source": []
  },
  {
   "cell_type": "code",
   "execution_count": null,
   "id": "8f93ba5a-1aa1-4e14-8395-c301a33c6091",
   "metadata": {},
   "outputs": [],
   "source": []
  },
  {
   "cell_type": "code",
   "execution_count": null,
   "id": "f8aade79-ccaf-4e02-9e64-89f4810db281",
   "metadata": {},
   "outputs": [],
   "source": []
  },
  {
   "cell_type": "code",
   "execution_count": 95,
   "id": "c0d2b29c-2990-499c-ae4d-3fc301304d51",
   "metadata": {
    "tags": []
   },
   "outputs": [],
   "source": [
    "# clean the text data using regex and data cleaning function\n",
    "# create a list text\n",
    "import string\n",
    "\n",
    "my_list=[  'news','new', 'amp','time', 'photos', 'get','make','e','o','u','s', 'say']\n",
    "def clean_text(text):\n",
    "    #r = re.sub('[^a-zA-Z]', ' ', text)\n",
    "    r= re.sub(\"'\", \"\",text)\n",
    "    #r=re.sub(\"(-\\d)+\",\" \",text)\n",
    "    r=re.sub(\"(-\\d|\\W)+\",\" \",text)\n",
    "    r = r.lower()\n",
    "    r = r.split()\n",
    "    r = [word for word in r if word not in stopwords.words('english')]\n",
    "    r = [word for word in r if word not in list(string.punctuation)]# and word not in my_list]\n",
    "    r = [lemmatizer.lemmatize(word) for word in r]\n",
    "    return ' '.join(r)\n"
   ]
  },
  {
   "cell_type": "code",
   "execution_count": 96,
   "id": "708349b3-be26-43b0-9b77-b2950b559f81",
   "metadata": {
    "tags": []
   },
   "outputs": [
    {
     "data": {
      "text/plain": [
       "'cardi b donates 100 000 old middle school bronx grammy winning rapper surprised star struck child alexander macomb school morris height make announcement'"
      ]
     },
     "execution_count": 96,
     "metadata": {},
     "output_type": "execute_result"
    }
   ],
   "source": [
    "clean_text(small_df.news[50])"
   ]
  },
  {
   "cell_type": "code",
   "execution_count": 97,
   "id": "14ab1a71-ebd6-40b2-839f-d40af9066097",
   "metadata": {
    "tags": []
   },
   "outputs": [
    {
     "name": "stdout",
     "output_type": "stream",
     "text": [
      "<class 'pandas.core.frame.DataFrame'>\n",
      "RangeIndex: 8382 entries, 0 to 209525\n",
      "Data columns (total 8 columns):\n",
      " #   Column             Non-Null Count  Dtype         \n",
      "---  ------             --------------  -----         \n",
      " 0   link               8382 non-null   object        \n",
      " 1   headline           8382 non-null   object        \n",
      " 2   category           8382 non-null   object        \n",
      " 3   short_description  8382 non-null   object        \n",
      " 4   authors            8382 non-null   object        \n",
      " 5   date               8382 non-null   datetime64[ns]\n",
      " 6   news               8382 non-null   object        \n",
      " 7   clean_news         8382 non-null   object        \n",
      "dtypes: datetime64[ns](1), object(7)\n",
      "memory usage: 524.0+ KB\n"
     ]
    }
   ],
   "source": [
    "small_df.info()"
   ]
  },
  {
   "cell_type": "code",
   "execution_count": 98,
   "id": "2a2f90c5-8834-4d80-96be-b3fce708a5f5",
   "metadata": {
    "tags": []
   },
   "outputs": [],
   "source": [
    "small_df['clean_news']=small_df['news'].apply(clean_text )"
   ]
  },
  {
   "cell_type": "code",
   "execution_count": 99,
   "id": "a4336a4c-c830-400a-a393-10f47358f708",
   "metadata": {
    "tags": []
   },
   "outputs": [
    {
     "data": {
      "text/html": [
       "<div>\n",
       "<style scoped>\n",
       "    .dataframe tbody tr th:only-of-type {\n",
       "        vertical-align: middle;\n",
       "    }\n",
       "\n",
       "    .dataframe tbody tr th {\n",
       "        vertical-align: top;\n",
       "    }\n",
       "\n",
       "    .dataframe thead th {\n",
       "        text-align: right;\n",
       "    }\n",
       "</style>\n",
       "<table border=\"1\" class=\"dataframe\">\n",
       "  <thead>\n",
       "    <tr style=\"text-align: right;\">\n",
       "      <th></th>\n",
       "      <th>link</th>\n",
       "      <th>headline</th>\n",
       "      <th>category</th>\n",
       "      <th>short_description</th>\n",
       "      <th>authors</th>\n",
       "      <th>date</th>\n",
       "      <th>news</th>\n",
       "      <th>clean_news</th>\n",
       "    </tr>\n",
       "  </thead>\n",
       "  <tbody>\n",
       "    <tr>\n",
       "      <th>0</th>\n",
       "      <td>https://www.huffpost.com/entry/covid-boosters-...</td>\n",
       "      <td>Over 4 Million Americans Roll Up Sleeves For O...</td>\n",
       "      <td>U.S. NEWS</td>\n",
       "      <td>Health experts said it is too early to predict...</td>\n",
       "      <td>Carla K. Johnson, AP</td>\n",
       "      <td>2022-09-23</td>\n",
       "      <td>Over 4 Million Americans Roll Up Sleeves For O...</td>\n",
       "      <td>4 million american roll sleeve omicron targete...</td>\n",
       "    </tr>\n",
       "    <tr>\n",
       "      <th>25</th>\n",
       "      <td>https://www.huffpost.com/entry/mark-frerichs-r...</td>\n",
       "      <td>Family Of American Held In Afghanistan Says He...</td>\n",
       "      <td>U.S. NEWS</td>\n",
       "      <td>Mark Frerichs, a Navy veteran and civilian con...</td>\n",
       "      <td>Eric Tucker and Rahim Faiez, AP</td>\n",
       "      <td>2022-09-19</td>\n",
       "      <td>Family Of American Held In Afghanistan Says He...</td>\n",
       "      <td>family american held afghanistan say freed tal...</td>\n",
       "    </tr>\n",
       "    <tr>\n",
       "      <th>50</th>\n",
       "      <td>https://www.huffpost.com/entry/cardi-b-bronx-s...</td>\n",
       "      <td>Cardi B Donates $100,000 To Her Old Middle Sch...</td>\n",
       "      <td>ENTERTAINMENT</td>\n",
       "      <td>The Grammy-winning rapper surprised star-struc...</td>\n",
       "      <td>Marco Margaritoff</td>\n",
       "      <td>2022-09-14</td>\n",
       "      <td>Cardi B Donates $100,000 To Her Old Middle Sch...</td>\n",
       "      <td>cardi b donates 100 000 old middle school bron...</td>\n",
       "    </tr>\n",
       "    <tr>\n",
       "      <th>75</th>\n",
       "      <td>https://www.huffpost.com/entry/bc-eu-russia-uk...</td>\n",
       "      <td>Russia Says It's Pulling Back Forces From Ukra...</td>\n",
       "      <td>WORLD NEWS</td>\n",
       "      <td>Russia’s Defense Ministry announced that troop...</td>\n",
       "      <td>KARL RITTER and JOANNA KOZLOWSKA, AP</td>\n",
       "      <td>2022-09-10</td>\n",
       "      <td>Russia Says It's Pulling Back Forces From Ukra...</td>\n",
       "      <td>russia say pulling back force ukraine kharkiv ...</td>\n",
       "    </tr>\n",
       "    <tr>\n",
       "      <th>100</th>\n",
       "      <td>https://www.huffpost.com/entry/us-russia-to-bu...</td>\n",
       "      <td>U.S.: Russia To Buy Rockets, Artillery Shells ...</td>\n",
       "      <td>WORLD NEWS</td>\n",
       "      <td>The finding comes after the Biden administrati...</td>\n",
       "      <td>Aamer Madhani, AP</td>\n",
       "      <td>2022-09-06</td>\n",
       "      <td>U.S.: Russia To Buy Rockets, Artillery Shells ...</td>\n",
       "      <td>u russia buy rocket artillery shell north kore...</td>\n",
       "    </tr>\n",
       "  </tbody>\n",
       "</table>\n",
       "</div>"
      ],
      "text/plain": [
       "                                                  link  \\\n",
       "0    https://www.huffpost.com/entry/covid-boosters-...   \n",
       "25   https://www.huffpost.com/entry/mark-frerichs-r...   \n",
       "50   https://www.huffpost.com/entry/cardi-b-bronx-s...   \n",
       "75   https://www.huffpost.com/entry/bc-eu-russia-uk...   \n",
       "100  https://www.huffpost.com/entry/us-russia-to-bu...   \n",
       "\n",
       "                                              headline       category  \\\n",
       "0    Over 4 Million Americans Roll Up Sleeves For O...      U.S. NEWS   \n",
       "25   Family Of American Held In Afghanistan Says He...      U.S. NEWS   \n",
       "50   Cardi B Donates $100,000 To Her Old Middle Sch...  ENTERTAINMENT   \n",
       "75   Russia Says It's Pulling Back Forces From Ukra...     WORLD NEWS   \n",
       "100  U.S.: Russia To Buy Rockets, Artillery Shells ...     WORLD NEWS   \n",
       "\n",
       "                                     short_description  \\\n",
       "0    Health experts said it is too early to predict...   \n",
       "25   Mark Frerichs, a Navy veteran and civilian con...   \n",
       "50   The Grammy-winning rapper surprised star-struc...   \n",
       "75   Russia’s Defense Ministry announced that troop...   \n",
       "100  The finding comes after the Biden administrati...   \n",
       "\n",
       "                                  authors       date  \\\n",
       "0                    Carla K. Johnson, AP 2022-09-23   \n",
       "25        Eric Tucker and Rahim Faiez, AP 2022-09-19   \n",
       "50                      Marco Margaritoff 2022-09-14   \n",
       "75   KARL RITTER and JOANNA KOZLOWSKA, AP 2022-09-10   \n",
       "100                     Aamer Madhani, AP 2022-09-06   \n",
       "\n",
       "                                                  news  \\\n",
       "0    Over 4 Million Americans Roll Up Sleeves For O...   \n",
       "25   Family Of American Held In Afghanistan Says He...   \n",
       "50   Cardi B Donates $100,000 To Her Old Middle Sch...   \n",
       "75   Russia Says It's Pulling Back Forces From Ukra...   \n",
       "100  U.S.: Russia To Buy Rockets, Artillery Shells ...   \n",
       "\n",
       "                                            clean_news  \n",
       "0    4 million american roll sleeve omicron targete...  \n",
       "25   family american held afghanistan say freed tal...  \n",
       "50   cardi b donates 100 000 old middle school bron...  \n",
       "75   russia say pulling back force ukraine kharkiv ...  \n",
       "100  u russia buy rocket artillery shell north kore...  "
      ]
     },
     "execution_count": 99,
     "metadata": {},
     "output_type": "execute_result"
    }
   ],
   "source": [
    "small_df.head(5)"
   ]
  },
  {
   "cell_type": "code",
   "execution_count": 100,
   "id": "72e89c21-dfdc-453a-bf7a-815064505f9a",
   "metadata": {
    "tags": []
   },
   "outputs": [],
   "source": [
    "small_df.to_csv('cleans_news.csv')"
   ]
  },
  {
   "cell_type": "code",
   "execution_count": 101,
   "id": "09dabd99-e8fc-4a93-b0b4-7f608d829bb8",
   "metadata": {
    "tags": []
   },
   "outputs": [
    {
     "data": {
      "text/html": [
       "<div>\n",
       "<style scoped>\n",
       "    .dataframe tbody tr th:only-of-type {\n",
       "        vertical-align: middle;\n",
       "    }\n",
       "\n",
       "    .dataframe tbody tr th {\n",
       "        vertical-align: top;\n",
       "    }\n",
       "\n",
       "    .dataframe thead th {\n",
       "        text-align: right;\n",
       "    }\n",
       "</style>\n",
       "<table border=\"1\" class=\"dataframe\">\n",
       "  <thead>\n",
       "    <tr style=\"text-align: right;\">\n",
       "      <th></th>\n",
       "      <th>Unnamed: 0</th>\n",
       "      <th>link</th>\n",
       "      <th>headline</th>\n",
       "      <th>category</th>\n",
       "      <th>short_description</th>\n",
       "      <th>authors</th>\n",
       "      <th>date</th>\n",
       "      <th>news</th>\n",
       "      <th>clean_news</th>\n",
       "    </tr>\n",
       "  </thead>\n",
       "  <tbody>\n",
       "    <tr>\n",
       "      <th>0</th>\n",
       "      <td>0</td>\n",
       "      <td>https://www.huffpost.com/entry/covid-boosters-...</td>\n",
       "      <td>Over 4 Million Americans Roll Up Sleeves For O...</td>\n",
       "      <td>U.S. NEWS</td>\n",
       "      <td>Health experts said it is too early to predict...</td>\n",
       "      <td>Carla K. Johnson, AP</td>\n",
       "      <td>2022-09-23</td>\n",
       "      <td>Over 4 Million Americans Roll Up Sleeves For O...</td>\n",
       "      <td>4 million american roll sleeve omicron targete...</td>\n",
       "    </tr>\n",
       "    <tr>\n",
       "      <th>1</th>\n",
       "      <td>25</td>\n",
       "      <td>https://www.huffpost.com/entry/mark-frerichs-r...</td>\n",
       "      <td>Family Of American Held In Afghanistan Says He...</td>\n",
       "      <td>U.S. NEWS</td>\n",
       "      <td>Mark Frerichs, a Navy veteran and civilian con...</td>\n",
       "      <td>Eric Tucker and Rahim Faiez, AP</td>\n",
       "      <td>2022-09-19</td>\n",
       "      <td>Family Of American Held In Afghanistan Says He...</td>\n",
       "      <td>family american held afghanistan say freed tal...</td>\n",
       "    </tr>\n",
       "    <tr>\n",
       "      <th>2</th>\n",
       "      <td>50</td>\n",
       "      <td>https://www.huffpost.com/entry/cardi-b-bronx-s...</td>\n",
       "      <td>Cardi B Donates $100,000 To Her Old Middle Sch...</td>\n",
       "      <td>ENTERTAINMENT</td>\n",
       "      <td>The Grammy-winning rapper surprised star-struc...</td>\n",
       "      <td>Marco Margaritoff</td>\n",
       "      <td>2022-09-14</td>\n",
       "      <td>Cardi B Donates $100,000 To Her Old Middle Sch...</td>\n",
       "      <td>cardi b donates 100 000 old middle school bron...</td>\n",
       "    </tr>\n",
       "    <tr>\n",
       "      <th>3</th>\n",
       "      <td>75</td>\n",
       "      <td>https://www.huffpost.com/entry/bc-eu-russia-uk...</td>\n",
       "      <td>Russia Says It's Pulling Back Forces From Ukra...</td>\n",
       "      <td>WORLD NEWS</td>\n",
       "      <td>Russia’s Defense Ministry announced that troop...</td>\n",
       "      <td>KARL RITTER and JOANNA KOZLOWSKA, AP</td>\n",
       "      <td>2022-09-10</td>\n",
       "      <td>Russia Says It's Pulling Back Forces From Ukra...</td>\n",
       "      <td>russia say pulling back force ukraine kharkiv ...</td>\n",
       "    </tr>\n",
       "    <tr>\n",
       "      <th>4</th>\n",
       "      <td>100</td>\n",
       "      <td>https://www.huffpost.com/entry/us-russia-to-bu...</td>\n",
       "      <td>U.S.: Russia To Buy Rockets, Artillery Shells ...</td>\n",
       "      <td>WORLD NEWS</td>\n",
       "      <td>The finding comes after the Biden administrati...</td>\n",
       "      <td>Aamer Madhani, AP</td>\n",
       "      <td>2022-09-06</td>\n",
       "      <td>U.S.: Russia To Buy Rockets, Artillery Shells ...</td>\n",
       "      <td>u russia buy rocket artillery shell north kore...</td>\n",
       "    </tr>\n",
       "  </tbody>\n",
       "</table>\n",
       "</div>"
      ],
      "text/plain": [
       "   Unnamed: 0                                               link  \\\n",
       "0           0  https://www.huffpost.com/entry/covid-boosters-...   \n",
       "1          25  https://www.huffpost.com/entry/mark-frerichs-r...   \n",
       "2          50  https://www.huffpost.com/entry/cardi-b-bronx-s...   \n",
       "3          75  https://www.huffpost.com/entry/bc-eu-russia-uk...   \n",
       "4         100  https://www.huffpost.com/entry/us-russia-to-bu...   \n",
       "\n",
       "                                            headline       category  \\\n",
       "0  Over 4 Million Americans Roll Up Sleeves For O...      U.S. NEWS   \n",
       "1  Family Of American Held In Afghanistan Says He...      U.S. NEWS   \n",
       "2  Cardi B Donates $100,000 To Her Old Middle Sch...  ENTERTAINMENT   \n",
       "3  Russia Says It's Pulling Back Forces From Ukra...     WORLD NEWS   \n",
       "4  U.S.: Russia To Buy Rockets, Artillery Shells ...     WORLD NEWS   \n",
       "\n",
       "                                   short_description  \\\n",
       "0  Health experts said it is too early to predict...   \n",
       "1  Mark Frerichs, a Navy veteran and civilian con...   \n",
       "2  The Grammy-winning rapper surprised star-struc...   \n",
       "3  Russia’s Defense Ministry announced that troop...   \n",
       "4  The finding comes after the Biden administrati...   \n",
       "\n",
       "                                authors        date  \\\n",
       "0                  Carla K. Johnson, AP  2022-09-23   \n",
       "1       Eric Tucker and Rahim Faiez, AP  2022-09-19   \n",
       "2                     Marco Margaritoff  2022-09-14   \n",
       "3  KARL RITTER and JOANNA KOZLOWSKA, AP  2022-09-10   \n",
       "4                     Aamer Madhani, AP  2022-09-06   \n",
       "\n",
       "                                                news  \\\n",
       "0  Over 4 Million Americans Roll Up Sleeves For O...   \n",
       "1  Family Of American Held In Afghanistan Says He...   \n",
       "2  Cardi B Donates $100,000 To Her Old Middle Sch...   \n",
       "3  Russia Says It's Pulling Back Forces From Ukra...   \n",
       "4  U.S.: Russia To Buy Rockets, Artillery Shells ...   \n",
       "\n",
       "                                          clean_news  \n",
       "0  4 million american roll sleeve omicron targete...  \n",
       "1  family american held afghanistan say freed tal...  \n",
       "2  cardi b donates 100 000 old middle school bron...  \n",
       "3  russia say pulling back force ukraine kharkiv ...  \n",
       "4  u russia buy rocket artillery shell north kore...  "
      ]
     },
     "execution_count": 101,
     "metadata": {},
     "output_type": "execute_result"
    }
   ],
   "source": [
    "data = pd.read_csv('cleans_news.csv')\n",
    "data.head()"
   ]
  },
  {
   "cell_type": "code",
   "execution_count": 102,
   "id": "cb3a329e",
   "metadata": {
    "tags": []
   },
   "outputs": [
    {
     "data": {
      "text/plain": [
       "Unnamed: 0              0\n",
       "link                    0\n",
       "headline                2\n",
       "category                0\n",
       "short_description     819\n",
       "authors              1492\n",
       "date                    0\n",
       "news                    0\n",
       "clean_news              3\n",
       "dtype: int64"
      ]
     },
     "execution_count": 102,
     "metadata": {},
     "output_type": "execute_result"
    }
   ],
   "source": [
    "data.isnull().sum()"
   ]
  },
  {
   "cell_type": "code",
   "execution_count": 72,
   "id": "10716bfd-db9a-492e-a679-f9023299f89e",
   "metadata": {
    "tags": []
   },
   "outputs": [],
   "source": [
    "data=data.dropna()"
   ]
  },
  {
   "cell_type": "code",
   "execution_count": 73,
   "id": "d99202d1-8a21-43ea-95de-a8f22a2aedf0",
   "metadata": {
    "tags": []
   },
   "outputs": [
    {
     "data": {
      "text/plain": [
       "Unnamed: 0           0\n",
       "link                 0\n",
       "headline             0\n",
       "category             0\n",
       "short_description    0\n",
       "authors              0\n",
       "date                 0\n",
       "news                 0\n",
       "clean_news           0\n",
       "dtype: int64"
      ]
     },
     "execution_count": 73,
     "metadata": {},
     "output_type": "execute_result"
    }
   ],
   "source": [
    "data.isnull().sum()"
   ]
  },
  {
   "cell_type": "code",
   "execution_count": 74,
   "id": "74b49502-9fa9-4c4c-890b-382dc610ad3f",
   "metadata": {
    "tags": []
   },
   "outputs": [],
   "source": [
    "#Polarity: to check the sentiment of the text\n",
    "#Subjectivity: to check if text is objective or subjective\n",
    "\n",
    "#from textblob import TextBlob\n",
    "#def polarity_txt(text):return TextBlob(text).sentiment[1]\n",
    "\n",
    "#def subj_txt(text):return TextBlob(text).sentiment[0]"
   ]
  },
  {
   "cell_type": "code",
   "execution_count": 75,
   "id": "4cd11b56-dedc-4e3c-844a-368959ae64d5",
   "metadata": {
    "tags": []
   },
   "outputs": [],
   "source": [
    "#data['polarity'] = data['clean_news'].apply(polarity_txt)\n",
    "#data['subjectivity'] = data['clean_news'].apply(subj_txt)"
   ]
  },
  {
   "cell_type": "code",
   "execution_count": 103,
   "id": "7af6046b-04e1-4e45-bac9-8222c1a1be17",
   "metadata": {
    "tags": []
   },
   "outputs": [
    {
     "data": {
      "text/html": [
       "<div>\n",
       "<style scoped>\n",
       "    .dataframe tbody tr th:only-of-type {\n",
       "        vertical-align: middle;\n",
       "    }\n",
       "\n",
       "    .dataframe tbody tr th {\n",
       "        vertical-align: top;\n",
       "    }\n",
       "\n",
       "    .dataframe thead th {\n",
       "        text-align: right;\n",
       "    }\n",
       "</style>\n",
       "<table border=\"1\" class=\"dataframe\">\n",
       "  <thead>\n",
       "    <tr style=\"text-align: right;\">\n",
       "      <th></th>\n",
       "      <th>Unnamed: 0</th>\n",
       "      <th>link</th>\n",
       "      <th>headline</th>\n",
       "      <th>category</th>\n",
       "      <th>short_description</th>\n",
       "      <th>authors</th>\n",
       "      <th>date</th>\n",
       "      <th>news</th>\n",
       "      <th>clean_news</th>\n",
       "      <th>label_category</th>\n",
       "    </tr>\n",
       "  </thead>\n",
       "  <tbody>\n",
       "    <tr>\n",
       "      <th>0</th>\n",
       "      <td>0</td>\n",
       "      <td>https://www.huffpost.com/entry/covid-boosters-...</td>\n",
       "      <td>Over 4 Million Americans Roll Up Sleeves For O...</td>\n",
       "      <td>U.S. NEWS</td>\n",
       "      <td>Health experts said it is too early to predict...</td>\n",
       "      <td>Carla K. Johnson, AP</td>\n",
       "      <td>2022-09-23</td>\n",
       "      <td>Over 4 Million Americans Roll Up Sleeves For O...</td>\n",
       "      <td>4 million american roll sleeve omicron targete...</td>\n",
       "      <td>34</td>\n",
       "    </tr>\n",
       "    <tr>\n",
       "      <th>1</th>\n",
       "      <td>25</td>\n",
       "      <td>https://www.huffpost.com/entry/mark-frerichs-r...</td>\n",
       "      <td>Family Of American Held In Afghanistan Says He...</td>\n",
       "      <td>U.S. NEWS</td>\n",
       "      <td>Mark Frerichs, a Navy veteran and civilian con...</td>\n",
       "      <td>Eric Tucker and Rahim Faiez, AP</td>\n",
       "      <td>2022-09-19</td>\n",
       "      <td>Family Of American Held In Afghanistan Says He...</td>\n",
       "      <td>family american held afghanistan say freed tal...</td>\n",
       "      <td>34</td>\n",
       "    </tr>\n",
       "    <tr>\n",
       "      <th>2</th>\n",
       "      <td>50</td>\n",
       "      <td>https://www.huffpost.com/entry/cardi-b-bronx-s...</td>\n",
       "      <td>Cardi B Donates $100,000 To Her Old Middle Sch...</td>\n",
       "      <td>ENTERTAINMENT</td>\n",
       "      <td>The Grammy-winning rapper surprised star-struc...</td>\n",
       "      <td>Marco Margaritoff</td>\n",
       "      <td>2022-09-14</td>\n",
       "      <td>Cardi B Donates $100,000 To Her Old Middle Sch...</td>\n",
       "      <td>cardi b donates 100 000 old middle school bron...</td>\n",
       "      <td>10</td>\n",
       "    </tr>\n",
       "    <tr>\n",
       "      <th>3</th>\n",
       "      <td>75</td>\n",
       "      <td>https://www.huffpost.com/entry/bc-eu-russia-uk...</td>\n",
       "      <td>Russia Says It's Pulling Back Forces From Ukra...</td>\n",
       "      <td>WORLD NEWS</td>\n",
       "      <td>Russia’s Defense Ministry announced that troop...</td>\n",
       "      <td>KARL RITTER and JOANNA KOZLOWSKA, AP</td>\n",
       "      <td>2022-09-10</td>\n",
       "      <td>Russia Says It's Pulling Back Forces From Ukra...</td>\n",
       "      <td>russia say pulling back force ukraine kharkiv ...</td>\n",
       "      <td>39</td>\n",
       "    </tr>\n",
       "    <tr>\n",
       "      <th>4</th>\n",
       "      <td>100</td>\n",
       "      <td>https://www.huffpost.com/entry/us-russia-to-bu...</td>\n",
       "      <td>U.S.: Russia To Buy Rockets, Artillery Shells ...</td>\n",
       "      <td>WORLD NEWS</td>\n",
       "      <td>The finding comes after the Biden administrati...</td>\n",
       "      <td>Aamer Madhani, AP</td>\n",
       "      <td>2022-09-06</td>\n",
       "      <td>U.S.: Russia To Buy Rockets, Artillery Shells ...</td>\n",
       "      <td>u russia buy rocket artillery shell north kore...</td>\n",
       "      <td>39</td>\n",
       "    </tr>\n",
       "  </tbody>\n",
       "</table>\n",
       "</div>"
      ],
      "text/plain": [
       "   Unnamed: 0                                               link  \\\n",
       "0           0  https://www.huffpost.com/entry/covid-boosters-...   \n",
       "1          25  https://www.huffpost.com/entry/mark-frerichs-r...   \n",
       "2          50  https://www.huffpost.com/entry/cardi-b-bronx-s...   \n",
       "3          75  https://www.huffpost.com/entry/bc-eu-russia-uk...   \n",
       "4         100  https://www.huffpost.com/entry/us-russia-to-bu...   \n",
       "\n",
       "                                            headline       category  \\\n",
       "0  Over 4 Million Americans Roll Up Sleeves For O...      U.S. NEWS   \n",
       "1  Family Of American Held In Afghanistan Says He...      U.S. NEWS   \n",
       "2  Cardi B Donates $100,000 To Her Old Middle Sch...  ENTERTAINMENT   \n",
       "3  Russia Says It's Pulling Back Forces From Ukra...     WORLD NEWS   \n",
       "4  U.S.: Russia To Buy Rockets, Artillery Shells ...     WORLD NEWS   \n",
       "\n",
       "                                   short_description  \\\n",
       "0  Health experts said it is too early to predict...   \n",
       "1  Mark Frerichs, a Navy veteran and civilian con...   \n",
       "2  The Grammy-winning rapper surprised star-struc...   \n",
       "3  Russia’s Defense Ministry announced that troop...   \n",
       "4  The finding comes after the Biden administrati...   \n",
       "\n",
       "                                authors        date  \\\n",
       "0                  Carla K. Johnson, AP  2022-09-23   \n",
       "1       Eric Tucker and Rahim Faiez, AP  2022-09-19   \n",
       "2                     Marco Margaritoff  2022-09-14   \n",
       "3  KARL RITTER and JOANNA KOZLOWSKA, AP  2022-09-10   \n",
       "4                     Aamer Madhani, AP  2022-09-06   \n",
       "\n",
       "                                                news  \\\n",
       "0  Over 4 Million Americans Roll Up Sleeves For O...   \n",
       "1  Family Of American Held In Afghanistan Says He...   \n",
       "2  Cardi B Donates $100,000 To Her Old Middle Sch...   \n",
       "3  Russia Says It's Pulling Back Forces From Ukra...   \n",
       "4  U.S.: Russia To Buy Rockets, Artillery Shells ...   \n",
       "\n",
       "                                          clean_news  label_category  \n",
       "0  4 million american roll sleeve omicron targete...              34  \n",
       "1  family american held afghanistan say freed tal...              34  \n",
       "2  cardi b donates 100 000 old middle school bron...              10  \n",
       "3  russia say pulling back force ukraine kharkiv ...              39  \n",
       "4  u russia buy rocket artillery shell north kore...              39  "
      ]
     },
     "execution_count": 103,
     "metadata": {},
     "output_type": "execute_result"
    }
   ],
   "source": [
    "# Now encode the data\n",
    "from sklearn.preprocessing import LabelEncoder\n",
    "label = LabelEncoder()\n",
    "data['label_category'] = label.fit_transform(data['category'])\n",
    "data.head()"
   ]
  },
  {
   "cell_type": "code",
   "execution_count": 105,
   "id": "c2d612a2-d5fd-4641-a840-9bc05de46831",
   "metadata": {
    "tags": []
   },
   "outputs": [
    {
     "data": {
      "text/plain": [
       "category\n",
       "POLITICS          1382\n",
       "WELLNESS           699\n",
       "ENTERTAINMENT      692\n",
       "TRAVEL             414\n",
       "STYLE & BEAUTY     404\n",
       "PARENTING          356\n",
       "WORLDPOST          252\n",
       "HEALTHY LIVING     250\n",
       "COMEDY             245\n",
       "FOOD & DRINK       243\n",
       "BUSINESS           236\n",
       "QUEER VOICES       233\n",
       "SPORTS             214\n",
       "HOME & LIVING      178\n",
       "BLACK VOICES       172\n",
       "WORLD NEWS         150\n",
       "WEDDINGS           148\n",
       "PARENTS            146\n",
       "DIVORCE            145\n",
       "IMPACT             140\n",
       "CRIME              133\n",
       "WOMEN              131\n",
       "GREEN              123\n",
       "RELIGION           117\n",
       "WEIRD NEWS         108\n",
       "MEDIA              108\n",
       "STYLE              100\n",
       "TASTE               91\n",
       "SCIENCE             87\n",
       "TECH                82\n",
       "GOOD NEWS           68\n",
       "MONEY               67\n",
       "ARTS                66\n",
       "LATINO VOICES       63\n",
       "FIFTY               60\n",
       "ENVIRONMENT         54\n",
       "U.S. NEWS           53\n",
       "ARTS & CULTURE      48\n",
       "COLLEGE             45\n",
       "CULTURE & ARTS      43\n",
       "EDUCATION           36\n",
       "Name: count, dtype: int64"
      ]
     },
     "execution_count": 105,
     "metadata": {},
     "output_type": "execute_result"
    }
   ],
   "source": [
    "data['category'].value_counts()"
   ]
  },
  {
   "cell_type": "code",
   "execution_count": 136,
   "id": "cc1378fa",
   "metadata": {
    "tags": []
   },
   "outputs": [],
   "source": [
    "# Vectorizing the cleaned columns\n",
    "from sklearn.feature_extraction.text import CountVectorizer\n",
    "cv = CountVectorizer(max_features = 5000)\n",
    "X = cv.fit_transform(data['clean_news'].values.astype('U'))\n"
   ]
  },
  {
   "cell_type": "code",
   "execution_count": 137,
   "id": "e85928a5-7b52-4a78-a73b-5875678d9bf0",
   "metadata": {
    "tags": []
   },
   "outputs": [],
   "source": [
    "# Vectorizing the cleaned columns\n",
    "# from sklearn.feature_extraction.text import TfidfVectorizer\n",
    "# tfidf = TfidfVectorizer(max_features=5000, stop_words=\"english\")\n",
    "# X = tfidf.fit_transform(data['clean_news'].values.astype('U'))\n"
   ]
  },
  {
   "cell_type": "code",
   "execution_count": 138,
   "id": "7a13b165-7805-44ab-aba9-44606e385756",
   "metadata": {
    "tags": []
   },
   "outputs": [
    {
     "data": {
      "text/plain": [
       "(8382, 5000)"
      ]
     },
     "execution_count": 138,
     "metadata": {},
     "output_type": "execute_result"
    }
   ],
   "source": [
    "X.toarray().shape"
   ]
  },
  {
   "cell_type": "code",
   "execution_count": null,
   "id": "68771c1b-9314-45ca-b703-a6d76faa34f3",
   "metadata": {},
   "outputs": [],
   "source": []
  },
  {
   "cell_type": "code",
   "execution_count": null,
   "id": "ab0e0d69-1441-4d75-82aa-017a13f98645",
   "metadata": {},
   "outputs": [],
   "source": []
  },
  {
   "cell_type": "code",
   "execution_count": 139,
   "id": "813c9996-fb31-4937-bde8-7daee3404e53",
   "metadata": {
    "tags": []
   },
   "outputs": [
    {
     "data": {
      "text/plain": [
       "<8382x5000 sparse matrix of type '<class 'numpy.int64'>'\n",
       "\twith 111479 stored elements in Compressed Sparse Row format>"
      ]
     },
     "execution_count": 139,
     "metadata": {},
     "output_type": "execute_result"
    }
   ],
   "source": [
    "X"
   ]
  },
  {
   "cell_type": "code",
   "execution_count": 140,
   "id": "48816311-9da4-4bd3-abd1-c75bc74cac21",
   "metadata": {
    "tags": []
   },
   "outputs": [
    {
     "data": {
      "text/plain": [
       "array([34, 34, 10, ..., 30, 18, 28])"
      ]
     },
     "execution_count": 140,
     "metadata": {},
     "output_type": "execute_result"
    }
   ],
   "source": [
    "y = data['label_category'].values\n",
    "y"
   ]
  },
  {
   "cell_type": "code",
   "execution_count": 141,
   "id": "2f385635",
   "metadata": {
    "tags": []
   },
   "outputs": [
    {
     "data": {
      "text/plain": [
       "3870     0\n",
       "3659     0\n",
       "4586     0\n",
       "4578     0\n",
       "4072     0\n",
       "        ..\n",
       "2016    40\n",
       "2009    40\n",
       "3760    40\n",
       "4918    40\n",
       "2114    40\n",
       "Name: label_category, Length: 8382, dtype: int32"
      ]
     },
     "execution_count": 141,
     "metadata": {},
     "output_type": "execute_result"
    }
   ],
   "source": [
    "data['label_category'].sort_values()"
   ]
  },
  {
   "cell_type": "code",
   "execution_count": null,
   "id": "9cb82909-9ec4-4806-a90b-f5aa4b8ccd7c",
   "metadata": {},
   "outputs": [],
   "source": []
  },
  {
   "cell_type": "code",
   "execution_count": null,
   "id": "25e07ea5-f25e-4e16-ba87-5a6fcda8a080",
   "metadata": {},
   "outputs": [],
   "source": []
  },
  {
   "cell_type": "code",
   "execution_count": 142,
   "id": "231daa79-5879-434e-8fab-ee7757126c5b",
   "metadata": {
    "tags": []
   },
   "outputs": [],
   "source": [
    "from sklearn.model_selection import train_test_split\n",
    "from sklearn.metrics import accuracy_score\n",
    "from sklearn.metrics import make_scorer, roc_curve, roc_auc_score\n",
    "from sklearn.metrics import confusion_matrix\n",
    "from sklearn.metrics import classification_report\n",
    "from sklearn.metrics import precision_recall_fscore_support as score\n",
    "from sklearn.multiclass import OneVsRestClassifier\n",
    "from sklearn.svm import SVC, LinearSVC\n",
    "from sklearn.tree import DecisionTreeClassifier\n",
    "from sklearn.ensemble import RandomForestClassifier\n",
    "from sklearn.neighbors import KNeighborsClassifier\n",
    "from sklearn.naive_bayes import GaussianNB,MultinomialNB,BernoulliNB\n",
    "from sklearn.tree import DecisionTreeClassifier\n",
    "from sklearn.ensemble import AdaBoostClassifier\n",
    "from sklearn.ensemble import BaggingClassifier\n",
    "from sklearn.ensemble import ExtraTreesClassifier\n",
    "from sklearn.ensemble import GradientBoostingClassifier\n",
    "from xgboost import XGBClassifier"
   ]
  },
  {
   "cell_type": "code",
   "execution_count": null,
   "id": "b776edb4",
   "metadata": {},
   "outputs": [],
   "source": []
  },
  {
   "cell_type": "code",
   "execution_count": 143,
   "id": "740ab40e",
   "metadata": {
    "tags": []
   },
   "outputs": [
    {
     "data": {
      "text/plain": [
       "((6705, 5000), (1677, 5000), (6705,), (1677,))"
      ]
     },
     "execution_count": 143,
     "metadata": {},
     "output_type": "execute_result"
    }
   ],
   "source": [
    "# Separate train and test data\n",
    "X_train, X_test, y_train, y_test = train_test_split(X, y, random_state=24, test_size=0.2)\n",
    "\n",
    "X_train.shape, X_test.shape, y_train.shape, y_test.shape\n",
    "     "
   ]
  },
  {
   "cell_type": "code",
   "execution_count": null,
   "id": "774b4186",
   "metadata": {
    "tags": []
   },
   "outputs": [],
   "source": [
    "\n"
   ]
  },
  {
   "cell_type": "code",
   "execution_count": 144,
   "id": "cc484882-2e93-4b5e-a7de-3d66f7e20f90",
   "metadata": {
    "tags": []
   },
   "outputs": [],
   "source": [
    "models=[SVC(C=1.0,kernel= \"linear\", gamma  = 'auto'),\n",
    "        KNeighborsClassifier(),\n",
    "        DecisionTreeClassifier(max_depth = 5),\n",
    "        RandomForestClassifier(n_estimators = 100, random_state = 42 ),\n",
    "        AdaBoostClassifier(n_estimators = 50, random_state = 42),\n",
    "        BaggingClassifier(n_estimators = 50, random_state = 42),\n",
    "        ExtraTreesClassifier(n_estimators = 50, random_state = 42),\n",
    "        GradientBoostingClassifier(n_estimators = 50, random_state = 42),\n",
    "        XGBClassifier(n_estimators = 100, random_state = 42),\n",
    "       ]"
   ]
  },
  {
   "cell_type": "code",
   "execution_count": 133,
   "id": "eaacce55-dbf7-4c3a-8053-f595317f8462",
   "metadata": {
    "tags": []
   },
   "outputs": [
    {
     "name": "stdout",
     "output_type": "stream",
     "text": [
      "Accuracy SVC(gamma='auto', kernel='linear'): % 51.04\n",
      "Precision : 0.5104353011329755\n",
      "Recall : 0.5104353011329755\n",
      "F1-score : 0.5104353011329755\n",
      "Accuracy KNeighborsClassifier(): % 19.74\n",
      "Precision : 0.197376267143709\n",
      "Recall : 0.197376267143709\n",
      "F1-score : 0.19737626714370904\n",
      "Accuracy DecisionTreeClassifier(max_depth=5): % 35.3\n",
      "Precision : 0.3530113297555158\n",
      "Recall : 0.3530113297555158\n",
      "F1-score : 0.3530113297555158\n",
      "Accuracy RandomForestClassifier(random_state=42): % 45.68\n",
      "Precision : 0.456768038163387\n",
      "Recall : 0.456768038163387\n",
      "F1-score : 0.456768038163387\n",
      "Accuracy AdaBoostClassifier(random_state=42): % 40.25\n",
      "Precision : 0.40250447227191416\n",
      "Recall : 0.40250447227191416\n",
      "F1-score : 0.40250447227191416\n"
     ]
    },
    {
     "ename": "KeyboardInterrupt",
     "evalue": "",
     "output_type": "error",
     "traceback": [
      "\u001b[1;31m---------------------------------------------------------------------------\u001b[0m",
      "\u001b[1;31mKeyboardInterrupt\u001b[0m                         Traceback (most recent call last)",
      "Cell \u001b[1;32mIn[133], line 8\u001b[0m\n\u001b[0;32m      6\u001b[0m oneVsRest \u001b[38;5;241m=\u001b[39m OneVsRestClassifier(model)\n\u001b[0;32m      7\u001b[0m \u001b[38;5;66;03m#print(oneVsRest)\u001b[39;00m\n\u001b[1;32m----> 8\u001b[0m \u001b[43moneVsRest\u001b[49m\u001b[38;5;241;43m.\u001b[39;49m\u001b[43mfit\u001b[49m\u001b[43m(\u001b[49m\u001b[43mX_train\u001b[49m\u001b[43m,\u001b[49m\u001b[43m \u001b[49m\u001b[43my_train\u001b[49m\u001b[43m)\u001b[49m\n\u001b[0;32m      9\u001b[0m y_pred \u001b[38;5;241m=\u001b[39m oneVsRest\u001b[38;5;241m.\u001b[39mpredict(X_test)\n\u001b[0;32m     10\u001b[0m \u001b[38;5;66;03m# Performance metrics\u001b[39;00m\n",
      "File \u001b[1;32m~\\anaconda3\\Lib\\site-packages\\sklearn\\multiclass.py:330\u001b[0m, in \u001b[0;36mOneVsRestClassifier.fit\u001b[1;34m(self, X, y)\u001b[0m\n\u001b[0;32m    326\u001b[0m columns \u001b[38;5;241m=\u001b[39m (col\u001b[38;5;241m.\u001b[39mtoarray()\u001b[38;5;241m.\u001b[39mravel() \u001b[38;5;28;01mfor\u001b[39;00m col \u001b[38;5;129;01min\u001b[39;00m Y\u001b[38;5;241m.\u001b[39mT)\n\u001b[0;32m    327\u001b[0m \u001b[38;5;66;03m# In cases where individual estimators are very fast to train setting\u001b[39;00m\n\u001b[0;32m    328\u001b[0m \u001b[38;5;66;03m# n_jobs > 1 in can results in slower performance due to the overhead\u001b[39;00m\n\u001b[0;32m    329\u001b[0m \u001b[38;5;66;03m# of spawning threads.  See joblib issue #112.\u001b[39;00m\n\u001b[1;32m--> 330\u001b[0m \u001b[38;5;28mself\u001b[39m\u001b[38;5;241m.\u001b[39mestimators_ \u001b[38;5;241m=\u001b[39m \u001b[43mParallel\u001b[49m\u001b[43m(\u001b[49m\u001b[43mn_jobs\u001b[49m\u001b[38;5;241;43m=\u001b[39;49m\u001b[38;5;28;43mself\u001b[39;49m\u001b[38;5;241;43m.\u001b[39;49m\u001b[43mn_jobs\u001b[49m\u001b[43m,\u001b[49m\u001b[43m \u001b[49m\u001b[43mverbose\u001b[49m\u001b[38;5;241;43m=\u001b[39;49m\u001b[38;5;28;43mself\u001b[39;49m\u001b[38;5;241;43m.\u001b[39;49m\u001b[43mverbose\u001b[49m\u001b[43m)\u001b[49m\u001b[43m(\u001b[49m\n\u001b[0;32m    331\u001b[0m \u001b[43m    \u001b[49m\u001b[43mdelayed\u001b[49m\u001b[43m(\u001b[49m\u001b[43m_fit_binary\u001b[49m\u001b[43m)\u001b[49m\u001b[43m(\u001b[49m\n\u001b[0;32m    332\u001b[0m \u001b[43m        \u001b[49m\u001b[38;5;28;43mself\u001b[39;49m\u001b[38;5;241;43m.\u001b[39;49m\u001b[43mestimator\u001b[49m\u001b[43m,\u001b[49m\n\u001b[0;32m    333\u001b[0m \u001b[43m        \u001b[49m\u001b[43mX\u001b[49m\u001b[43m,\u001b[49m\n\u001b[0;32m    334\u001b[0m \u001b[43m        \u001b[49m\u001b[43mcolumn\u001b[49m\u001b[43m,\u001b[49m\n\u001b[0;32m    335\u001b[0m \u001b[43m        \u001b[49m\u001b[43mclasses\u001b[49m\u001b[38;5;241;43m=\u001b[39;49m\u001b[43m[\u001b[49m\n\u001b[0;32m    336\u001b[0m \u001b[43m            \u001b[49m\u001b[38;5;124;43m\"\u001b[39;49m\u001b[38;5;124;43mnot \u001b[39;49m\u001b[38;5;132;43;01m%s\u001b[39;49;00m\u001b[38;5;124;43m\"\u001b[39;49m\u001b[43m \u001b[49m\u001b[38;5;241;43m%\u001b[39;49m\u001b[43m \u001b[49m\u001b[38;5;28;43mself\u001b[39;49m\u001b[38;5;241;43m.\u001b[39;49m\u001b[43mlabel_binarizer_\u001b[49m\u001b[38;5;241;43m.\u001b[39;49m\u001b[43mclasses_\u001b[49m\u001b[43m[\u001b[49m\u001b[43mi\u001b[49m\u001b[43m]\u001b[49m\u001b[43m,\u001b[49m\n\u001b[0;32m    337\u001b[0m \u001b[43m            \u001b[49m\u001b[38;5;28;43mself\u001b[39;49m\u001b[38;5;241;43m.\u001b[39;49m\u001b[43mlabel_binarizer_\u001b[49m\u001b[38;5;241;43m.\u001b[39;49m\u001b[43mclasses_\u001b[49m\u001b[43m[\u001b[49m\u001b[43mi\u001b[49m\u001b[43m]\u001b[49m\u001b[43m,\u001b[49m\n\u001b[0;32m    338\u001b[0m \u001b[43m        \u001b[49m\u001b[43m]\u001b[49m\u001b[43m,\u001b[49m\n\u001b[0;32m    339\u001b[0m \u001b[43m    \u001b[49m\u001b[43m)\u001b[49m\n\u001b[0;32m    340\u001b[0m \u001b[43m    \u001b[49m\u001b[38;5;28;43;01mfor\u001b[39;49;00m\u001b[43m \u001b[49m\u001b[43mi\u001b[49m\u001b[43m,\u001b[49m\u001b[43m \u001b[49m\u001b[43mcolumn\u001b[49m\u001b[43m \u001b[49m\u001b[38;5;129;43;01min\u001b[39;49;00m\u001b[43m \u001b[49m\u001b[38;5;28;43menumerate\u001b[39;49m\u001b[43m(\u001b[49m\u001b[43mcolumns\u001b[49m\u001b[43m)\u001b[49m\n\u001b[0;32m    341\u001b[0m \u001b[43m\u001b[49m\u001b[43m)\u001b[49m\n\u001b[0;32m    343\u001b[0m \u001b[38;5;28;01mif\u001b[39;00m \u001b[38;5;28mhasattr\u001b[39m(\u001b[38;5;28mself\u001b[39m\u001b[38;5;241m.\u001b[39mestimators_[\u001b[38;5;241m0\u001b[39m], \u001b[38;5;124m\"\u001b[39m\u001b[38;5;124mn_features_in_\u001b[39m\u001b[38;5;124m\"\u001b[39m):\n\u001b[0;32m    344\u001b[0m     \u001b[38;5;28mself\u001b[39m\u001b[38;5;241m.\u001b[39mn_features_in_ \u001b[38;5;241m=\u001b[39m \u001b[38;5;28mself\u001b[39m\u001b[38;5;241m.\u001b[39mestimators_[\u001b[38;5;241m0\u001b[39m]\u001b[38;5;241m.\u001b[39mn_features_in_\n",
      "File \u001b[1;32m~\\anaconda3\\Lib\\site-packages\\sklearn\\utils\\parallel.py:63\u001b[0m, in \u001b[0;36mParallel.__call__\u001b[1;34m(self, iterable)\u001b[0m\n\u001b[0;32m     58\u001b[0m config \u001b[38;5;241m=\u001b[39m get_config()\n\u001b[0;32m     59\u001b[0m iterable_with_config \u001b[38;5;241m=\u001b[39m (\n\u001b[0;32m     60\u001b[0m     (_with_config(delayed_func, config), args, kwargs)\n\u001b[0;32m     61\u001b[0m     \u001b[38;5;28;01mfor\u001b[39;00m delayed_func, args, kwargs \u001b[38;5;129;01min\u001b[39;00m iterable\n\u001b[0;32m     62\u001b[0m )\n\u001b[1;32m---> 63\u001b[0m \u001b[38;5;28;01mreturn\u001b[39;00m \u001b[38;5;28;43msuper\u001b[39;49m\u001b[43m(\u001b[49m\u001b[43m)\u001b[49m\u001b[38;5;241;43m.\u001b[39;49m\u001b[38;5;21;43m__call__\u001b[39;49m\u001b[43m(\u001b[49m\u001b[43miterable_with_config\u001b[49m\u001b[43m)\u001b[49m\n",
      "File \u001b[1;32m~\\anaconda3\\Lib\\site-packages\\joblib\\parallel.py:1088\u001b[0m, in \u001b[0;36mParallel.__call__\u001b[1;34m(self, iterable)\u001b[0m\n\u001b[0;32m   1085\u001b[0m \u001b[38;5;28;01mif\u001b[39;00m \u001b[38;5;28mself\u001b[39m\u001b[38;5;241m.\u001b[39mdispatch_one_batch(iterator):\n\u001b[0;32m   1086\u001b[0m     \u001b[38;5;28mself\u001b[39m\u001b[38;5;241m.\u001b[39m_iterating \u001b[38;5;241m=\u001b[39m \u001b[38;5;28mself\u001b[39m\u001b[38;5;241m.\u001b[39m_original_iterator \u001b[38;5;129;01mis\u001b[39;00m \u001b[38;5;129;01mnot\u001b[39;00m \u001b[38;5;28;01mNone\u001b[39;00m\n\u001b[1;32m-> 1088\u001b[0m \u001b[38;5;28;01mwhile\u001b[39;00m \u001b[38;5;28;43mself\u001b[39;49m\u001b[38;5;241;43m.\u001b[39;49m\u001b[43mdispatch_one_batch\u001b[49m\u001b[43m(\u001b[49m\u001b[43miterator\u001b[49m\u001b[43m)\u001b[49m:\n\u001b[0;32m   1089\u001b[0m     \u001b[38;5;28;01mpass\u001b[39;00m\n\u001b[0;32m   1091\u001b[0m \u001b[38;5;28;01mif\u001b[39;00m pre_dispatch \u001b[38;5;241m==\u001b[39m \u001b[38;5;124m\"\u001b[39m\u001b[38;5;124mall\u001b[39m\u001b[38;5;124m\"\u001b[39m \u001b[38;5;129;01mor\u001b[39;00m n_jobs \u001b[38;5;241m==\u001b[39m \u001b[38;5;241m1\u001b[39m:\n\u001b[0;32m   1092\u001b[0m     \u001b[38;5;66;03m# The iterable was consumed all at once by the above for loop.\u001b[39;00m\n\u001b[0;32m   1093\u001b[0m     \u001b[38;5;66;03m# No need to wait for async callbacks to trigger to\u001b[39;00m\n\u001b[0;32m   1094\u001b[0m     \u001b[38;5;66;03m# consumption.\u001b[39;00m\n",
      "File \u001b[1;32m~\\anaconda3\\Lib\\site-packages\\joblib\\parallel.py:901\u001b[0m, in \u001b[0;36mParallel.dispatch_one_batch\u001b[1;34m(self, iterator)\u001b[0m\n\u001b[0;32m    899\u001b[0m     \u001b[38;5;28;01mreturn\u001b[39;00m \u001b[38;5;28;01mFalse\u001b[39;00m\n\u001b[0;32m    900\u001b[0m \u001b[38;5;28;01melse\u001b[39;00m:\n\u001b[1;32m--> 901\u001b[0m     \u001b[38;5;28;43mself\u001b[39;49m\u001b[38;5;241;43m.\u001b[39;49m\u001b[43m_dispatch\u001b[49m\u001b[43m(\u001b[49m\u001b[43mtasks\u001b[49m\u001b[43m)\u001b[49m\n\u001b[0;32m    902\u001b[0m     \u001b[38;5;28;01mreturn\u001b[39;00m \u001b[38;5;28;01mTrue\u001b[39;00m\n",
      "File \u001b[1;32m~\\anaconda3\\Lib\\site-packages\\joblib\\parallel.py:819\u001b[0m, in \u001b[0;36mParallel._dispatch\u001b[1;34m(self, batch)\u001b[0m\n\u001b[0;32m    817\u001b[0m \u001b[38;5;28;01mwith\u001b[39;00m \u001b[38;5;28mself\u001b[39m\u001b[38;5;241m.\u001b[39m_lock:\n\u001b[0;32m    818\u001b[0m     job_idx \u001b[38;5;241m=\u001b[39m \u001b[38;5;28mlen\u001b[39m(\u001b[38;5;28mself\u001b[39m\u001b[38;5;241m.\u001b[39m_jobs)\n\u001b[1;32m--> 819\u001b[0m     job \u001b[38;5;241m=\u001b[39m \u001b[38;5;28;43mself\u001b[39;49m\u001b[38;5;241;43m.\u001b[39;49m\u001b[43m_backend\u001b[49m\u001b[38;5;241;43m.\u001b[39;49m\u001b[43mapply_async\u001b[49m\u001b[43m(\u001b[49m\u001b[43mbatch\u001b[49m\u001b[43m,\u001b[49m\u001b[43m \u001b[49m\u001b[43mcallback\u001b[49m\u001b[38;5;241;43m=\u001b[39;49m\u001b[43mcb\u001b[49m\u001b[43m)\u001b[49m\n\u001b[0;32m    820\u001b[0m     \u001b[38;5;66;03m# A job can complete so quickly than its callback is\u001b[39;00m\n\u001b[0;32m    821\u001b[0m     \u001b[38;5;66;03m# called before we get here, causing self._jobs to\u001b[39;00m\n\u001b[0;32m    822\u001b[0m     \u001b[38;5;66;03m# grow. To ensure correct results ordering, .insert is\u001b[39;00m\n\u001b[0;32m    823\u001b[0m     \u001b[38;5;66;03m# used (rather than .append) in the following line\u001b[39;00m\n\u001b[0;32m    824\u001b[0m     \u001b[38;5;28mself\u001b[39m\u001b[38;5;241m.\u001b[39m_jobs\u001b[38;5;241m.\u001b[39minsert(job_idx, job)\n",
      "File \u001b[1;32m~\\anaconda3\\Lib\\site-packages\\joblib\\_parallel_backends.py:208\u001b[0m, in \u001b[0;36mSequentialBackend.apply_async\u001b[1;34m(self, func, callback)\u001b[0m\n\u001b[0;32m    206\u001b[0m \u001b[38;5;28;01mdef\u001b[39;00m \u001b[38;5;21mapply_async\u001b[39m(\u001b[38;5;28mself\u001b[39m, func, callback\u001b[38;5;241m=\u001b[39m\u001b[38;5;28;01mNone\u001b[39;00m):\n\u001b[0;32m    207\u001b[0m \u001b[38;5;250m    \u001b[39m\u001b[38;5;124;03m\"\"\"Schedule a func to be run\"\"\"\u001b[39;00m\n\u001b[1;32m--> 208\u001b[0m     result \u001b[38;5;241m=\u001b[39m \u001b[43mImmediateResult\u001b[49m\u001b[43m(\u001b[49m\u001b[43mfunc\u001b[49m\u001b[43m)\u001b[49m\n\u001b[0;32m    209\u001b[0m     \u001b[38;5;28;01mif\u001b[39;00m callback:\n\u001b[0;32m    210\u001b[0m         callback(result)\n",
      "File \u001b[1;32m~\\anaconda3\\Lib\\site-packages\\joblib\\_parallel_backends.py:597\u001b[0m, in \u001b[0;36mImmediateResult.__init__\u001b[1;34m(self, batch)\u001b[0m\n\u001b[0;32m    594\u001b[0m \u001b[38;5;28;01mdef\u001b[39;00m \u001b[38;5;21m__init__\u001b[39m(\u001b[38;5;28mself\u001b[39m, batch):\n\u001b[0;32m    595\u001b[0m     \u001b[38;5;66;03m# Don't delay the application, to avoid keeping the input\u001b[39;00m\n\u001b[0;32m    596\u001b[0m     \u001b[38;5;66;03m# arguments in memory\u001b[39;00m\n\u001b[1;32m--> 597\u001b[0m     \u001b[38;5;28mself\u001b[39m\u001b[38;5;241m.\u001b[39mresults \u001b[38;5;241m=\u001b[39m \u001b[43mbatch\u001b[49m\u001b[43m(\u001b[49m\u001b[43m)\u001b[49m\n",
      "File \u001b[1;32m~\\anaconda3\\Lib\\site-packages\\joblib\\parallel.py:288\u001b[0m, in \u001b[0;36mBatchedCalls.__call__\u001b[1;34m(self)\u001b[0m\n\u001b[0;32m    284\u001b[0m \u001b[38;5;28;01mdef\u001b[39;00m \u001b[38;5;21m__call__\u001b[39m(\u001b[38;5;28mself\u001b[39m):\n\u001b[0;32m    285\u001b[0m     \u001b[38;5;66;03m# Set the default nested backend to self._backend but do not set the\u001b[39;00m\n\u001b[0;32m    286\u001b[0m     \u001b[38;5;66;03m# change the default number of processes to -1\u001b[39;00m\n\u001b[0;32m    287\u001b[0m     \u001b[38;5;28;01mwith\u001b[39;00m parallel_backend(\u001b[38;5;28mself\u001b[39m\u001b[38;5;241m.\u001b[39m_backend, n_jobs\u001b[38;5;241m=\u001b[39m\u001b[38;5;28mself\u001b[39m\u001b[38;5;241m.\u001b[39m_n_jobs):\n\u001b[1;32m--> 288\u001b[0m         \u001b[38;5;28;01mreturn\u001b[39;00m \u001b[43m[\u001b[49m\u001b[43mfunc\u001b[49m\u001b[43m(\u001b[49m\u001b[38;5;241;43m*\u001b[39;49m\u001b[43margs\u001b[49m\u001b[43m,\u001b[49m\u001b[43m \u001b[49m\u001b[38;5;241;43m*\u001b[39;49m\u001b[38;5;241;43m*\u001b[39;49m\u001b[43mkwargs\u001b[49m\u001b[43m)\u001b[49m\n\u001b[0;32m    289\u001b[0m \u001b[43m                \u001b[49m\u001b[38;5;28;43;01mfor\u001b[39;49;00m\u001b[43m \u001b[49m\u001b[43mfunc\u001b[49m\u001b[43m,\u001b[49m\u001b[43m \u001b[49m\u001b[43margs\u001b[49m\u001b[43m,\u001b[49m\u001b[43m \u001b[49m\u001b[43mkwargs\u001b[49m\u001b[43m \u001b[49m\u001b[38;5;129;43;01min\u001b[39;49;00m\u001b[43m \u001b[49m\u001b[38;5;28;43mself\u001b[39;49m\u001b[38;5;241;43m.\u001b[39;49m\u001b[43mitems\u001b[49m\u001b[43m]\u001b[49m\n",
      "File \u001b[1;32m~\\anaconda3\\Lib\\site-packages\\joblib\\parallel.py:288\u001b[0m, in \u001b[0;36m<listcomp>\u001b[1;34m(.0)\u001b[0m\n\u001b[0;32m    284\u001b[0m \u001b[38;5;28;01mdef\u001b[39;00m \u001b[38;5;21m__call__\u001b[39m(\u001b[38;5;28mself\u001b[39m):\n\u001b[0;32m    285\u001b[0m     \u001b[38;5;66;03m# Set the default nested backend to self._backend but do not set the\u001b[39;00m\n\u001b[0;32m    286\u001b[0m     \u001b[38;5;66;03m# change the default number of processes to -1\u001b[39;00m\n\u001b[0;32m    287\u001b[0m     \u001b[38;5;28;01mwith\u001b[39;00m parallel_backend(\u001b[38;5;28mself\u001b[39m\u001b[38;5;241m.\u001b[39m_backend, n_jobs\u001b[38;5;241m=\u001b[39m\u001b[38;5;28mself\u001b[39m\u001b[38;5;241m.\u001b[39m_n_jobs):\n\u001b[1;32m--> 288\u001b[0m         \u001b[38;5;28;01mreturn\u001b[39;00m [\u001b[43mfunc\u001b[49m\u001b[43m(\u001b[49m\u001b[38;5;241;43m*\u001b[39;49m\u001b[43margs\u001b[49m\u001b[43m,\u001b[49m\u001b[43m \u001b[49m\u001b[38;5;241;43m*\u001b[39;49m\u001b[38;5;241;43m*\u001b[39;49m\u001b[43mkwargs\u001b[49m\u001b[43m)\u001b[49m\n\u001b[0;32m    289\u001b[0m                 \u001b[38;5;28;01mfor\u001b[39;00m func, args, kwargs \u001b[38;5;129;01min\u001b[39;00m \u001b[38;5;28mself\u001b[39m\u001b[38;5;241m.\u001b[39mitems]\n",
      "File \u001b[1;32m~\\anaconda3\\Lib\\site-packages\\sklearn\\utils\\parallel.py:123\u001b[0m, in \u001b[0;36m_FuncWrapper.__call__\u001b[1;34m(self, *args, **kwargs)\u001b[0m\n\u001b[0;32m    121\u001b[0m     config \u001b[38;5;241m=\u001b[39m {}\n\u001b[0;32m    122\u001b[0m \u001b[38;5;28;01mwith\u001b[39;00m config_context(\u001b[38;5;241m*\u001b[39m\u001b[38;5;241m*\u001b[39mconfig):\n\u001b[1;32m--> 123\u001b[0m     \u001b[38;5;28;01mreturn\u001b[39;00m \u001b[38;5;28;43mself\u001b[39;49m\u001b[38;5;241;43m.\u001b[39;49m\u001b[43mfunction\u001b[49m\u001b[43m(\u001b[49m\u001b[38;5;241;43m*\u001b[39;49m\u001b[43margs\u001b[49m\u001b[43m,\u001b[49m\u001b[43m \u001b[49m\u001b[38;5;241;43m*\u001b[39;49m\u001b[38;5;241;43m*\u001b[39;49m\u001b[43mkwargs\u001b[49m\u001b[43m)\u001b[49m\n",
      "File \u001b[1;32m~\\anaconda3\\Lib\\site-packages\\sklearn\\multiclass.py:83\u001b[0m, in \u001b[0;36m_fit_binary\u001b[1;34m(estimator, X, y, classes)\u001b[0m\n\u001b[0;32m     81\u001b[0m \u001b[38;5;28;01melse\u001b[39;00m:\n\u001b[0;32m     82\u001b[0m     estimator \u001b[38;5;241m=\u001b[39m clone(estimator)\n\u001b[1;32m---> 83\u001b[0m     \u001b[43mestimator\u001b[49m\u001b[38;5;241;43m.\u001b[39;49m\u001b[43mfit\u001b[49m\u001b[43m(\u001b[49m\u001b[43mX\u001b[49m\u001b[43m,\u001b[49m\u001b[43m \u001b[49m\u001b[43my\u001b[49m\u001b[43m)\u001b[49m\n\u001b[0;32m     84\u001b[0m \u001b[38;5;28;01mreturn\u001b[39;00m estimator\n",
      "File \u001b[1;32m~\\anaconda3\\Lib\\site-packages\\sklearn\\ensemble\\_bagging.py:337\u001b[0m, in \u001b[0;36mBaseBagging.fit\u001b[1;34m(self, X, y, sample_weight)\u001b[0m\n\u001b[0;32m    328\u001b[0m \u001b[38;5;66;03m# Convert data (X is required to be 2d and indexable)\u001b[39;00m\n\u001b[0;32m    329\u001b[0m X, y \u001b[38;5;241m=\u001b[39m \u001b[38;5;28mself\u001b[39m\u001b[38;5;241m.\u001b[39m_validate_data(\n\u001b[0;32m    330\u001b[0m     X,\n\u001b[0;32m    331\u001b[0m     y,\n\u001b[1;32m   (...)\u001b[0m\n\u001b[0;32m    335\u001b[0m     multi_output\u001b[38;5;241m=\u001b[39m\u001b[38;5;28;01mTrue\u001b[39;00m,\n\u001b[0;32m    336\u001b[0m )\n\u001b[1;32m--> 337\u001b[0m \u001b[38;5;28;01mreturn\u001b[39;00m \u001b[38;5;28;43mself\u001b[39;49m\u001b[38;5;241;43m.\u001b[39;49m\u001b[43m_fit\u001b[49m\u001b[43m(\u001b[49m\u001b[43mX\u001b[49m\u001b[43m,\u001b[49m\u001b[43m \u001b[49m\u001b[43my\u001b[49m\u001b[43m,\u001b[49m\u001b[43m \u001b[49m\u001b[38;5;28;43mself\u001b[39;49m\u001b[38;5;241;43m.\u001b[39;49m\u001b[43mmax_samples\u001b[49m\u001b[43m,\u001b[49m\u001b[43m \u001b[49m\u001b[43msample_weight\u001b[49m\u001b[38;5;241;43m=\u001b[39;49m\u001b[43msample_weight\u001b[49m\u001b[43m)\u001b[49m\n",
      "File \u001b[1;32m~\\anaconda3\\Lib\\site-packages\\sklearn\\ensemble\\_bagging.py:472\u001b[0m, in \u001b[0;36mBaseBagging._fit\u001b[1;34m(self, X, y, max_samples, max_depth, sample_weight, check_input)\u001b[0m\n\u001b[0;32m    469\u001b[0m seeds \u001b[38;5;241m=\u001b[39m random_state\u001b[38;5;241m.\u001b[39mrandint(MAX_INT, size\u001b[38;5;241m=\u001b[39mn_more_estimators)\n\u001b[0;32m    470\u001b[0m \u001b[38;5;28mself\u001b[39m\u001b[38;5;241m.\u001b[39m_seeds \u001b[38;5;241m=\u001b[39m seeds\n\u001b[1;32m--> 472\u001b[0m all_results \u001b[38;5;241m=\u001b[39m \u001b[43mParallel\u001b[49m\u001b[43m(\u001b[49m\n\u001b[0;32m    473\u001b[0m \u001b[43m    \u001b[49m\u001b[43mn_jobs\u001b[49m\u001b[38;5;241;43m=\u001b[39;49m\u001b[43mn_jobs\u001b[49m\u001b[43m,\u001b[49m\u001b[43m \u001b[49m\u001b[43mverbose\u001b[49m\u001b[38;5;241;43m=\u001b[39;49m\u001b[38;5;28;43mself\u001b[39;49m\u001b[38;5;241;43m.\u001b[39;49m\u001b[43mverbose\u001b[49m\u001b[43m,\u001b[49m\u001b[43m \u001b[49m\u001b[38;5;241;43m*\u001b[39;49m\u001b[38;5;241;43m*\u001b[39;49m\u001b[38;5;28;43mself\u001b[39;49m\u001b[38;5;241;43m.\u001b[39;49m\u001b[43m_parallel_args\u001b[49m\u001b[43m(\u001b[49m\u001b[43m)\u001b[49m\n\u001b[0;32m    474\u001b[0m \u001b[43m\u001b[49m\u001b[43m)\u001b[49m\u001b[43m(\u001b[49m\n\u001b[0;32m    475\u001b[0m \u001b[43m    \u001b[49m\u001b[43mdelayed\u001b[49m\u001b[43m(\u001b[49m\u001b[43m_parallel_build_estimators\u001b[49m\u001b[43m)\u001b[49m\u001b[43m(\u001b[49m\n\u001b[0;32m    476\u001b[0m \u001b[43m        \u001b[49m\u001b[43mn_estimators\u001b[49m\u001b[43m[\u001b[49m\u001b[43mi\u001b[49m\u001b[43m]\u001b[49m\u001b[43m,\u001b[49m\n\u001b[0;32m    477\u001b[0m \u001b[43m        \u001b[49m\u001b[38;5;28;43mself\u001b[39;49m\u001b[43m,\u001b[49m\n\u001b[0;32m    478\u001b[0m \u001b[43m        \u001b[49m\u001b[43mX\u001b[49m\u001b[43m,\u001b[49m\n\u001b[0;32m    479\u001b[0m \u001b[43m        \u001b[49m\u001b[43my\u001b[49m\u001b[43m,\u001b[49m\n\u001b[0;32m    480\u001b[0m \u001b[43m        \u001b[49m\u001b[43msample_weight\u001b[49m\u001b[43m,\u001b[49m\n\u001b[0;32m    481\u001b[0m \u001b[43m        \u001b[49m\u001b[43mseeds\u001b[49m\u001b[43m[\u001b[49m\u001b[43mstarts\u001b[49m\u001b[43m[\u001b[49m\u001b[43mi\u001b[49m\u001b[43m]\u001b[49m\u001b[43m \u001b[49m\u001b[43m:\u001b[49m\u001b[43m \u001b[49m\u001b[43mstarts\u001b[49m\u001b[43m[\u001b[49m\u001b[43mi\u001b[49m\u001b[43m \u001b[49m\u001b[38;5;241;43m+\u001b[39;49m\u001b[43m \u001b[49m\u001b[38;5;241;43m1\u001b[39;49m\u001b[43m]\u001b[49m\u001b[43m]\u001b[49m\u001b[43m,\u001b[49m\n\u001b[0;32m    482\u001b[0m \u001b[43m        \u001b[49m\u001b[43mtotal_n_estimators\u001b[49m\u001b[43m,\u001b[49m\n\u001b[0;32m    483\u001b[0m \u001b[43m        \u001b[49m\u001b[43mverbose\u001b[49m\u001b[38;5;241;43m=\u001b[39;49m\u001b[38;5;28;43mself\u001b[39;49m\u001b[38;5;241;43m.\u001b[39;49m\u001b[43mverbose\u001b[49m\u001b[43m,\u001b[49m\n\u001b[0;32m    484\u001b[0m \u001b[43m        \u001b[49m\u001b[43mcheck_input\u001b[49m\u001b[38;5;241;43m=\u001b[39;49m\u001b[43mcheck_input\u001b[49m\u001b[43m,\u001b[49m\n\u001b[0;32m    485\u001b[0m \u001b[43m    \u001b[49m\u001b[43m)\u001b[49m\n\u001b[0;32m    486\u001b[0m \u001b[43m    \u001b[49m\u001b[38;5;28;43;01mfor\u001b[39;49;00m\u001b[43m \u001b[49m\u001b[43mi\u001b[49m\u001b[43m \u001b[49m\u001b[38;5;129;43;01min\u001b[39;49;00m\u001b[43m \u001b[49m\u001b[38;5;28;43mrange\u001b[39;49m\u001b[43m(\u001b[49m\u001b[43mn_jobs\u001b[49m\u001b[43m)\u001b[49m\n\u001b[0;32m    487\u001b[0m \u001b[43m\u001b[49m\u001b[43m)\u001b[49m\n\u001b[0;32m    489\u001b[0m \u001b[38;5;66;03m# Reduce\u001b[39;00m\n\u001b[0;32m    490\u001b[0m \u001b[38;5;28mself\u001b[39m\u001b[38;5;241m.\u001b[39mestimators_ \u001b[38;5;241m+\u001b[39m\u001b[38;5;241m=\u001b[39m \u001b[38;5;28mlist\u001b[39m(\n\u001b[0;32m    491\u001b[0m     itertools\u001b[38;5;241m.\u001b[39mchain\u001b[38;5;241m.\u001b[39mfrom_iterable(t[\u001b[38;5;241m0\u001b[39m] \u001b[38;5;28;01mfor\u001b[39;00m t \u001b[38;5;129;01min\u001b[39;00m all_results)\n\u001b[0;32m    492\u001b[0m )\n",
      "File \u001b[1;32m~\\anaconda3\\Lib\\site-packages\\sklearn\\utils\\parallel.py:63\u001b[0m, in \u001b[0;36mParallel.__call__\u001b[1;34m(self, iterable)\u001b[0m\n\u001b[0;32m     58\u001b[0m config \u001b[38;5;241m=\u001b[39m get_config()\n\u001b[0;32m     59\u001b[0m iterable_with_config \u001b[38;5;241m=\u001b[39m (\n\u001b[0;32m     60\u001b[0m     (_with_config(delayed_func, config), args, kwargs)\n\u001b[0;32m     61\u001b[0m     \u001b[38;5;28;01mfor\u001b[39;00m delayed_func, args, kwargs \u001b[38;5;129;01min\u001b[39;00m iterable\n\u001b[0;32m     62\u001b[0m )\n\u001b[1;32m---> 63\u001b[0m \u001b[38;5;28;01mreturn\u001b[39;00m \u001b[38;5;28;43msuper\u001b[39;49m\u001b[43m(\u001b[49m\u001b[43m)\u001b[49m\u001b[38;5;241;43m.\u001b[39;49m\u001b[38;5;21;43m__call__\u001b[39;49m\u001b[43m(\u001b[49m\u001b[43miterable_with_config\u001b[49m\u001b[43m)\u001b[49m\n",
      "File \u001b[1;32m~\\anaconda3\\Lib\\site-packages\\joblib\\parallel.py:1085\u001b[0m, in \u001b[0;36mParallel.__call__\u001b[1;34m(self, iterable)\u001b[0m\n\u001b[0;32m   1076\u001b[0m \u001b[38;5;28;01mtry\u001b[39;00m:\n\u001b[0;32m   1077\u001b[0m     \u001b[38;5;66;03m# Only set self._iterating to True if at least a batch\u001b[39;00m\n\u001b[0;32m   1078\u001b[0m     \u001b[38;5;66;03m# was dispatched. In particular this covers the edge\u001b[39;00m\n\u001b[1;32m   (...)\u001b[0m\n\u001b[0;32m   1082\u001b[0m     \u001b[38;5;66;03m# was very quick and its callback already dispatched all the\u001b[39;00m\n\u001b[0;32m   1083\u001b[0m     \u001b[38;5;66;03m# remaining jobs.\u001b[39;00m\n\u001b[0;32m   1084\u001b[0m     \u001b[38;5;28mself\u001b[39m\u001b[38;5;241m.\u001b[39m_iterating \u001b[38;5;241m=\u001b[39m \u001b[38;5;28;01mFalse\u001b[39;00m\n\u001b[1;32m-> 1085\u001b[0m     \u001b[38;5;28;01mif\u001b[39;00m \u001b[38;5;28;43mself\u001b[39;49m\u001b[38;5;241;43m.\u001b[39;49m\u001b[43mdispatch_one_batch\u001b[49m\u001b[43m(\u001b[49m\u001b[43miterator\u001b[49m\u001b[43m)\u001b[49m:\n\u001b[0;32m   1086\u001b[0m         \u001b[38;5;28mself\u001b[39m\u001b[38;5;241m.\u001b[39m_iterating \u001b[38;5;241m=\u001b[39m \u001b[38;5;28mself\u001b[39m\u001b[38;5;241m.\u001b[39m_original_iterator \u001b[38;5;129;01mis\u001b[39;00m \u001b[38;5;129;01mnot\u001b[39;00m \u001b[38;5;28;01mNone\u001b[39;00m\n\u001b[0;32m   1088\u001b[0m     \u001b[38;5;28;01mwhile\u001b[39;00m \u001b[38;5;28mself\u001b[39m\u001b[38;5;241m.\u001b[39mdispatch_one_batch(iterator):\n",
      "File \u001b[1;32m~\\anaconda3\\Lib\\site-packages\\joblib\\parallel.py:901\u001b[0m, in \u001b[0;36mParallel.dispatch_one_batch\u001b[1;34m(self, iterator)\u001b[0m\n\u001b[0;32m    899\u001b[0m     \u001b[38;5;28;01mreturn\u001b[39;00m \u001b[38;5;28;01mFalse\u001b[39;00m\n\u001b[0;32m    900\u001b[0m \u001b[38;5;28;01melse\u001b[39;00m:\n\u001b[1;32m--> 901\u001b[0m     \u001b[38;5;28;43mself\u001b[39;49m\u001b[38;5;241;43m.\u001b[39;49m\u001b[43m_dispatch\u001b[49m\u001b[43m(\u001b[49m\u001b[43mtasks\u001b[49m\u001b[43m)\u001b[49m\n\u001b[0;32m    902\u001b[0m     \u001b[38;5;28;01mreturn\u001b[39;00m \u001b[38;5;28;01mTrue\u001b[39;00m\n",
      "File \u001b[1;32m~\\anaconda3\\Lib\\site-packages\\joblib\\parallel.py:819\u001b[0m, in \u001b[0;36mParallel._dispatch\u001b[1;34m(self, batch)\u001b[0m\n\u001b[0;32m    817\u001b[0m \u001b[38;5;28;01mwith\u001b[39;00m \u001b[38;5;28mself\u001b[39m\u001b[38;5;241m.\u001b[39m_lock:\n\u001b[0;32m    818\u001b[0m     job_idx \u001b[38;5;241m=\u001b[39m \u001b[38;5;28mlen\u001b[39m(\u001b[38;5;28mself\u001b[39m\u001b[38;5;241m.\u001b[39m_jobs)\n\u001b[1;32m--> 819\u001b[0m     job \u001b[38;5;241m=\u001b[39m \u001b[38;5;28;43mself\u001b[39;49m\u001b[38;5;241;43m.\u001b[39;49m\u001b[43m_backend\u001b[49m\u001b[38;5;241;43m.\u001b[39;49m\u001b[43mapply_async\u001b[49m\u001b[43m(\u001b[49m\u001b[43mbatch\u001b[49m\u001b[43m,\u001b[49m\u001b[43m \u001b[49m\u001b[43mcallback\u001b[49m\u001b[38;5;241;43m=\u001b[39;49m\u001b[43mcb\u001b[49m\u001b[43m)\u001b[49m\n\u001b[0;32m    820\u001b[0m     \u001b[38;5;66;03m# A job can complete so quickly than its callback is\u001b[39;00m\n\u001b[0;32m    821\u001b[0m     \u001b[38;5;66;03m# called before we get here, causing self._jobs to\u001b[39;00m\n\u001b[0;32m    822\u001b[0m     \u001b[38;5;66;03m# grow. To ensure correct results ordering, .insert is\u001b[39;00m\n\u001b[0;32m    823\u001b[0m     \u001b[38;5;66;03m# used (rather than .append) in the following line\u001b[39;00m\n\u001b[0;32m    824\u001b[0m     \u001b[38;5;28mself\u001b[39m\u001b[38;5;241m.\u001b[39m_jobs\u001b[38;5;241m.\u001b[39minsert(job_idx, job)\n",
      "File \u001b[1;32m~\\anaconda3\\Lib\\site-packages\\joblib\\_parallel_backends.py:208\u001b[0m, in \u001b[0;36mSequentialBackend.apply_async\u001b[1;34m(self, func, callback)\u001b[0m\n\u001b[0;32m    206\u001b[0m \u001b[38;5;28;01mdef\u001b[39;00m \u001b[38;5;21mapply_async\u001b[39m(\u001b[38;5;28mself\u001b[39m, func, callback\u001b[38;5;241m=\u001b[39m\u001b[38;5;28;01mNone\u001b[39;00m):\n\u001b[0;32m    207\u001b[0m \u001b[38;5;250m    \u001b[39m\u001b[38;5;124;03m\"\"\"Schedule a func to be run\"\"\"\u001b[39;00m\n\u001b[1;32m--> 208\u001b[0m     result \u001b[38;5;241m=\u001b[39m \u001b[43mImmediateResult\u001b[49m\u001b[43m(\u001b[49m\u001b[43mfunc\u001b[49m\u001b[43m)\u001b[49m\n\u001b[0;32m    209\u001b[0m     \u001b[38;5;28;01mif\u001b[39;00m callback:\n\u001b[0;32m    210\u001b[0m         callback(result)\n",
      "File \u001b[1;32m~\\anaconda3\\Lib\\site-packages\\joblib\\_parallel_backends.py:597\u001b[0m, in \u001b[0;36mImmediateResult.__init__\u001b[1;34m(self, batch)\u001b[0m\n\u001b[0;32m    594\u001b[0m \u001b[38;5;28;01mdef\u001b[39;00m \u001b[38;5;21m__init__\u001b[39m(\u001b[38;5;28mself\u001b[39m, batch):\n\u001b[0;32m    595\u001b[0m     \u001b[38;5;66;03m# Don't delay the application, to avoid keeping the input\u001b[39;00m\n\u001b[0;32m    596\u001b[0m     \u001b[38;5;66;03m# arguments in memory\u001b[39;00m\n\u001b[1;32m--> 597\u001b[0m     \u001b[38;5;28mself\u001b[39m\u001b[38;5;241m.\u001b[39mresults \u001b[38;5;241m=\u001b[39m \u001b[43mbatch\u001b[49m\u001b[43m(\u001b[49m\u001b[43m)\u001b[49m\n",
      "File \u001b[1;32m~\\anaconda3\\Lib\\site-packages\\joblib\\parallel.py:288\u001b[0m, in \u001b[0;36mBatchedCalls.__call__\u001b[1;34m(self)\u001b[0m\n\u001b[0;32m    284\u001b[0m \u001b[38;5;28;01mdef\u001b[39;00m \u001b[38;5;21m__call__\u001b[39m(\u001b[38;5;28mself\u001b[39m):\n\u001b[0;32m    285\u001b[0m     \u001b[38;5;66;03m# Set the default nested backend to self._backend but do not set the\u001b[39;00m\n\u001b[0;32m    286\u001b[0m     \u001b[38;5;66;03m# change the default number of processes to -1\u001b[39;00m\n\u001b[0;32m    287\u001b[0m     \u001b[38;5;28;01mwith\u001b[39;00m parallel_backend(\u001b[38;5;28mself\u001b[39m\u001b[38;5;241m.\u001b[39m_backend, n_jobs\u001b[38;5;241m=\u001b[39m\u001b[38;5;28mself\u001b[39m\u001b[38;5;241m.\u001b[39m_n_jobs):\n\u001b[1;32m--> 288\u001b[0m         \u001b[38;5;28;01mreturn\u001b[39;00m \u001b[43m[\u001b[49m\u001b[43mfunc\u001b[49m\u001b[43m(\u001b[49m\u001b[38;5;241;43m*\u001b[39;49m\u001b[43margs\u001b[49m\u001b[43m,\u001b[49m\u001b[43m \u001b[49m\u001b[38;5;241;43m*\u001b[39;49m\u001b[38;5;241;43m*\u001b[39;49m\u001b[43mkwargs\u001b[49m\u001b[43m)\u001b[49m\n\u001b[0;32m    289\u001b[0m \u001b[43m                \u001b[49m\u001b[38;5;28;43;01mfor\u001b[39;49;00m\u001b[43m \u001b[49m\u001b[43mfunc\u001b[49m\u001b[43m,\u001b[49m\u001b[43m \u001b[49m\u001b[43margs\u001b[49m\u001b[43m,\u001b[49m\u001b[43m \u001b[49m\u001b[43mkwargs\u001b[49m\u001b[43m \u001b[49m\u001b[38;5;129;43;01min\u001b[39;49;00m\u001b[43m \u001b[49m\u001b[38;5;28;43mself\u001b[39;49m\u001b[38;5;241;43m.\u001b[39;49m\u001b[43mitems\u001b[49m\u001b[43m]\u001b[49m\n",
      "File \u001b[1;32m~\\anaconda3\\Lib\\site-packages\\joblib\\parallel.py:288\u001b[0m, in \u001b[0;36m<listcomp>\u001b[1;34m(.0)\u001b[0m\n\u001b[0;32m    284\u001b[0m \u001b[38;5;28;01mdef\u001b[39;00m \u001b[38;5;21m__call__\u001b[39m(\u001b[38;5;28mself\u001b[39m):\n\u001b[0;32m    285\u001b[0m     \u001b[38;5;66;03m# Set the default nested backend to self._backend but do not set the\u001b[39;00m\n\u001b[0;32m    286\u001b[0m     \u001b[38;5;66;03m# change the default number of processes to -1\u001b[39;00m\n\u001b[0;32m    287\u001b[0m     \u001b[38;5;28;01mwith\u001b[39;00m parallel_backend(\u001b[38;5;28mself\u001b[39m\u001b[38;5;241m.\u001b[39m_backend, n_jobs\u001b[38;5;241m=\u001b[39m\u001b[38;5;28mself\u001b[39m\u001b[38;5;241m.\u001b[39m_n_jobs):\n\u001b[1;32m--> 288\u001b[0m         \u001b[38;5;28;01mreturn\u001b[39;00m [\u001b[43mfunc\u001b[49m\u001b[43m(\u001b[49m\u001b[38;5;241;43m*\u001b[39;49m\u001b[43margs\u001b[49m\u001b[43m,\u001b[49m\u001b[43m \u001b[49m\u001b[38;5;241;43m*\u001b[39;49m\u001b[38;5;241;43m*\u001b[39;49m\u001b[43mkwargs\u001b[49m\u001b[43m)\u001b[49m\n\u001b[0;32m    289\u001b[0m                 \u001b[38;5;28;01mfor\u001b[39;00m func, args, kwargs \u001b[38;5;129;01min\u001b[39;00m \u001b[38;5;28mself\u001b[39m\u001b[38;5;241m.\u001b[39mitems]\n",
      "File \u001b[1;32m~\\anaconda3\\Lib\\site-packages\\sklearn\\utils\\parallel.py:123\u001b[0m, in \u001b[0;36m_FuncWrapper.__call__\u001b[1;34m(self, *args, **kwargs)\u001b[0m\n\u001b[0;32m    121\u001b[0m     config \u001b[38;5;241m=\u001b[39m {}\n\u001b[0;32m    122\u001b[0m \u001b[38;5;28;01mwith\u001b[39;00m config_context(\u001b[38;5;241m*\u001b[39m\u001b[38;5;241m*\u001b[39mconfig):\n\u001b[1;32m--> 123\u001b[0m     \u001b[38;5;28;01mreturn\u001b[39;00m \u001b[38;5;28;43mself\u001b[39;49m\u001b[38;5;241;43m.\u001b[39;49m\u001b[43mfunction\u001b[49m\u001b[43m(\u001b[49m\u001b[38;5;241;43m*\u001b[39;49m\u001b[43margs\u001b[49m\u001b[43m,\u001b[49m\u001b[43m \u001b[49m\u001b[38;5;241;43m*\u001b[39;49m\u001b[38;5;241;43m*\u001b[39;49m\u001b[43mkwargs\u001b[49m\u001b[43m)\u001b[49m\n",
      "File \u001b[1;32m~\\anaconda3\\Lib\\site-packages\\sklearn\\ensemble\\_bagging.py:141\u001b[0m, in \u001b[0;36m_parallel_build_estimators\u001b[1;34m(n_estimators, ensemble, X, y, sample_weight, seeds, total_n_estimators, verbose, check_input)\u001b[0m\n\u001b[0;32m    138\u001b[0m         curr_sample_weight[not_indices_mask] \u001b[38;5;241m=\u001b[39m \u001b[38;5;241m0\u001b[39m\n\u001b[0;32m    140\u001b[0m     X_ \u001b[38;5;241m=\u001b[39m X[:, features] \u001b[38;5;28;01mif\u001b[39;00m requires_feature_indexing \u001b[38;5;28;01melse\u001b[39;00m X\n\u001b[1;32m--> 141\u001b[0m     \u001b[43mestimator_fit\u001b[49m\u001b[43m(\u001b[49m\u001b[43mX_\u001b[49m\u001b[43m,\u001b[49m\u001b[43m \u001b[49m\u001b[43my\u001b[49m\u001b[43m,\u001b[49m\u001b[43m \u001b[49m\u001b[43msample_weight\u001b[49m\u001b[38;5;241;43m=\u001b[39;49m\u001b[43mcurr_sample_weight\u001b[49m\u001b[43m)\u001b[49m\n\u001b[0;32m    142\u001b[0m \u001b[38;5;28;01melse\u001b[39;00m:\n\u001b[0;32m    143\u001b[0m     X_ \u001b[38;5;241m=\u001b[39m X[indices][:, features] \u001b[38;5;28;01mif\u001b[39;00m requires_feature_indexing \u001b[38;5;28;01melse\u001b[39;00m X[indices]\n",
      "File \u001b[1;32m~\\anaconda3\\Lib\\site-packages\\sklearn\\tree\\_classes.py:889\u001b[0m, in \u001b[0;36mDecisionTreeClassifier.fit\u001b[1;34m(self, X, y, sample_weight, check_input)\u001b[0m\n\u001b[0;32m    859\u001b[0m \u001b[38;5;28;01mdef\u001b[39;00m \u001b[38;5;21mfit\u001b[39m(\u001b[38;5;28mself\u001b[39m, X, y, sample_weight\u001b[38;5;241m=\u001b[39m\u001b[38;5;28;01mNone\u001b[39;00m, check_input\u001b[38;5;241m=\u001b[39m\u001b[38;5;28;01mTrue\u001b[39;00m):\n\u001b[0;32m    860\u001b[0m \u001b[38;5;250m    \u001b[39m\u001b[38;5;124;03m\"\"\"Build a decision tree classifier from the training set (X, y).\u001b[39;00m\n\u001b[0;32m    861\u001b[0m \n\u001b[0;32m    862\u001b[0m \u001b[38;5;124;03m    Parameters\u001b[39;00m\n\u001b[1;32m   (...)\u001b[0m\n\u001b[0;32m    886\u001b[0m \u001b[38;5;124;03m        Fitted estimator.\u001b[39;00m\n\u001b[0;32m    887\u001b[0m \u001b[38;5;124;03m    \"\"\"\u001b[39;00m\n\u001b[1;32m--> 889\u001b[0m     \u001b[38;5;28;43msuper\u001b[39;49m\u001b[43m(\u001b[49m\u001b[43m)\u001b[49m\u001b[38;5;241;43m.\u001b[39;49m\u001b[43mfit\u001b[49m\u001b[43m(\u001b[49m\n\u001b[0;32m    890\u001b[0m \u001b[43m        \u001b[49m\u001b[43mX\u001b[49m\u001b[43m,\u001b[49m\n\u001b[0;32m    891\u001b[0m \u001b[43m        \u001b[49m\u001b[43my\u001b[49m\u001b[43m,\u001b[49m\n\u001b[0;32m    892\u001b[0m \u001b[43m        \u001b[49m\u001b[43msample_weight\u001b[49m\u001b[38;5;241;43m=\u001b[39;49m\u001b[43msample_weight\u001b[49m\u001b[43m,\u001b[49m\n\u001b[0;32m    893\u001b[0m \u001b[43m        \u001b[49m\u001b[43mcheck_input\u001b[49m\u001b[38;5;241;43m=\u001b[39;49m\u001b[43mcheck_input\u001b[49m\u001b[43m,\u001b[49m\n\u001b[0;32m    894\u001b[0m \u001b[43m    \u001b[49m\u001b[43m)\u001b[49m\n\u001b[0;32m    895\u001b[0m     \u001b[38;5;28;01mreturn\u001b[39;00m \u001b[38;5;28mself\u001b[39m\n",
      "File \u001b[1;32m~\\anaconda3\\Lib\\site-packages\\sklearn\\tree\\_classes.py:379\u001b[0m, in \u001b[0;36mBaseDecisionTree.fit\u001b[1;34m(self, X, y, sample_weight, check_input)\u001b[0m\n\u001b[0;32m    368\u001b[0m \u001b[38;5;28;01melse\u001b[39;00m:\n\u001b[0;32m    369\u001b[0m     builder \u001b[38;5;241m=\u001b[39m BestFirstTreeBuilder(\n\u001b[0;32m    370\u001b[0m         splitter,\n\u001b[0;32m    371\u001b[0m         min_samples_split,\n\u001b[1;32m   (...)\u001b[0m\n\u001b[0;32m    376\u001b[0m         \u001b[38;5;28mself\u001b[39m\u001b[38;5;241m.\u001b[39mmin_impurity_decrease,\n\u001b[0;32m    377\u001b[0m     )\n\u001b[1;32m--> 379\u001b[0m \u001b[43mbuilder\u001b[49m\u001b[38;5;241;43m.\u001b[39;49m\u001b[43mbuild\u001b[49m\u001b[43m(\u001b[49m\u001b[38;5;28;43mself\u001b[39;49m\u001b[38;5;241;43m.\u001b[39;49m\u001b[43mtree_\u001b[49m\u001b[43m,\u001b[49m\u001b[43m \u001b[49m\u001b[43mX\u001b[49m\u001b[43m,\u001b[49m\u001b[43m \u001b[49m\u001b[43my\u001b[49m\u001b[43m,\u001b[49m\u001b[43m \u001b[49m\u001b[43msample_weight\u001b[49m\u001b[43m)\u001b[49m\n\u001b[0;32m    381\u001b[0m \u001b[38;5;28;01mif\u001b[39;00m \u001b[38;5;28mself\u001b[39m\u001b[38;5;241m.\u001b[39mn_outputs_ \u001b[38;5;241m==\u001b[39m \u001b[38;5;241m1\u001b[39m \u001b[38;5;129;01mand\u001b[39;00m is_classifier(\u001b[38;5;28mself\u001b[39m):\n\u001b[0;32m    382\u001b[0m     \u001b[38;5;28mself\u001b[39m\u001b[38;5;241m.\u001b[39mn_classes_ \u001b[38;5;241m=\u001b[39m \u001b[38;5;28mself\u001b[39m\u001b[38;5;241m.\u001b[39mn_classes_[\u001b[38;5;241m0\u001b[39m]\n",
      "\u001b[1;31mKeyboardInterrupt\u001b[0m: "
     ]
    }
   ],
   "source": [
    "#basic\n",
    "#wrap in function\n",
    "perform_list = [ ]\n",
    "for model in models:\n",
    "    #print(model)\n",
    "    oneVsRest = OneVsRestClassifier(model)\n",
    "    #print(oneVsRest)\n",
    "    oneVsRest.fit(X_train, y_train)\n",
    "    y_pred = oneVsRest.predict(X_test)\n",
    "    # Performance metrics\n",
    "    accuracy = round(accuracy_score(y_test, y_pred) * 100, 2)\n",
    "    # Get precision, recall, f1 scores\n",
    "    precision, recall, f1score, support = score(y_test, y_pred, average='micro')\n",
    "    print(f'Accuracy {model}: % {accuracy}')\n",
    "    print(f'Precision : {precision}')\n",
    "    print(f'Recall : {recall}')\n",
    "    print(f'F1-score : {f1score}')\n",
    "    # print(f'Classification report : {classification_report(y_test, y_pred)}')\n",
    "    # Add performance parameters to list\n",
    "    perform_list.append(dict([('Model', model),('Accuracy', round(accuracy, 2)),('Precision', round(precision, 2)),('Recall', round(recall, 2)),('F1', round(f1score, 2))]))\n",
    "    \n"
   ]
  },
  {
   "cell_type": "code",
   "execution_count": null,
   "id": "3c872d47-f639-4488-93d8-5cc5587345a8",
   "metadata": {},
   "outputs": [],
   "source": []
  },
  {
   "cell_type": "code",
   "execution_count": null,
   "id": "13136f34-279c-4523-8c95-ad8e3a111475",
   "metadata": {},
   "outputs": [],
   "source": []
  },
  {
   "cell_type": "code",
   "execution_count": null,
   "id": "88c21904-cfd4-4549-97ba-b0bd46e858b4",
   "metadata": {},
   "outputs": [],
   "source": []
  },
  {
   "cell_type": "code",
   "execution_count": null,
   "id": "ce5d1096-598f-4dc2-9324-116b0988ac6c",
   "metadata": {},
   "outputs": [],
   "source": []
  },
  {
   "cell_type": "code",
   "execution_count": null,
   "id": "45efc7ec-8cc2-4111-a578-286febdd164d",
   "metadata": {},
   "outputs": [],
   "source": []
  },
  {
   "cell_type": "code",
   "execution_count": null,
   "id": "e5af6e41-472b-41bb-839b-445bfba75ef0",
   "metadata": {},
   "outputs": [],
   "source": []
  },
  {
   "cell_type": "code",
   "execution_count": null,
   "id": "8f9dce50-474b-477c-a0db-0dbb8a7752ed",
   "metadata": {},
   "outputs": [],
   "source": []
  },
  {
   "cell_type": "code",
   "execution_count": null,
   "id": "1c6da053-684e-45c6-93f5-01eebec26fac",
   "metadata": {},
   "outputs": [],
   "source": []
  },
  {
   "cell_type": "code",
   "execution_count": null,
   "id": "74f38046-edc8-46e5-a71f-c05573a0735c",
   "metadata": {},
   "outputs": [],
   "source": []
  },
  {
   "cell_type": "code",
   "execution_count": null,
   "id": "ae77075c-5fc7-4e7b-bf87-3efca5ec18bd",
   "metadata": {},
   "outputs": [],
   "source": []
  },
  {
   "cell_type": "code",
   "execution_count": null,
   "id": "30e6237e-bcc3-4b68-a883-bdc92a408956",
   "metadata": {},
   "outputs": [],
   "source": []
  },
  {
   "cell_type": "code",
   "execution_count": 149,
   "id": "05d4cca1-9cd4-46eb-838f-912a2f8b2d11",
   "metadata": {
    "tags": []
   },
   "outputs": [
    {
     "name": "stdout",
     "output_type": "stream",
     "text": [
      "svc:  0.3953488372093023\n",
      "Accuracy SVC(): % 39.53\n",
      "Precision : 0.3953488372093023\n",
      "Recall : 0.3953488372093023\n",
      "F1-score : 0.3953488372093023\n"
     ]
    }
   ],
   "source": [
    "svc =  SVC()\n",
    "svc.fit(X_train,y_train)\n",
    "y_pred = svc.predict(X_test)\n",
    "#print('svc: ',accuracy_score(y_pred,y_test))\n",
    "# Performance metrics\n",
    "accuracy = round(accuracy_score(y_test, y_pred) * 100, 2)\n",
    "# Get precision, recall, f1 scores\n",
    "precision, recall, f1score, support = score(y_test, y_pred, average='micro')\n",
    "print(f'Accuracy {svc}: % {accuracy}')\n",
    "print(f'Precision : {precision}')\n",
    "print(f'Recall : {recall}')\n",
    "print(f'F1-score : {f1score}')"
   ]
  },
  {
   "cell_type": "code",
   "execution_count": 146,
   "id": "3f1251a1-9c78-4248-aeb5-f56b2e5b5e78",
   "metadata": {
    "tags": []
   },
   "outputs": [
    {
     "name": "stdout",
     "output_type": "stream",
     "text": [
      "rfc:  0.44841979725700654\n",
      "Accuracy RandomForestClassifier(random_state=42): % 44.84\n",
      "Precision : 0.44841979725700654\n",
      "Recall : 0.44841979725700654\n",
      "F1-score : 0.44841979725700654\n"
     ]
    }
   ],
   "source": [
    "rfc =  RandomForestClassifier(n_estimators = 100, random_state = 42 )\n",
    "rfc.fit(X_train,y_train)\n",
    "y_pred = rfc.predict(X_test)\n",
    "print('rfc: ',accuracy_score(y_pred,y_test))\n",
    "# Performance metrics\n",
    "accuracy = round(accuracy_score(y_test, y_pred) * 100, 2)\n",
    "# Get precision, recall, f1 scores\n",
    "precision, recall, f1score, support = score(y_test, y_pred, average='micro')\n",
    "print(f'Accuracy {rfc}: % {accuracy}')\n",
    "print(f'Precision : {precision}')\n",
    "print(f'Recall : {recall}')\n",
    "print(f'F1-score : {f1score}')"
   ]
  },
  {
   "cell_type": "code",
   "execution_count": null,
   "id": "c76ca618-e6b8-4c8d-bfcd-d409bd2ff677",
   "metadata": {},
   "outputs": [],
   "source": []
  },
  {
   "cell_type": "code",
   "execution_count": null,
   "id": "46e06849-04b0-4969-b53c-745045e6ec61",
   "metadata": {},
   "outputs": [],
   "source": []
  },
  {
   "cell_type": "code",
   "execution_count": null,
   "id": "2dcf85e8-5e33-4e30-bcb0-5e26d9703869",
   "metadata": {},
   "outputs": [],
   "source": []
  },
  {
   "cell_type": "code",
   "execution_count": null,
   "id": "85380788-07e0-4311-a278-4cfc93447ca6",
   "metadata": {},
   "outputs": [],
   "source": []
  },
  {
   "cell_type": "code",
   "execution_count": null,
   "id": "0583053b",
   "metadata": {},
   "outputs": [],
   "source": [
    "# Classification report\n",
    "print('CLASSIFICATIION METRICS')\n",
    "print(metrics.classification_report(y_test, y_pred, \n",
    "                                    target_names= data['category'].unique()))"
   ]
  },
  {
   "cell_type": "code",
   "execution_count": null,
   "id": "508b2543-f00c-4678-ba56-5161aa1dbe16",
   "metadata": {},
   "outputs": [],
   "source": []
  },
  {
   "cell_type": "code",
   "execution_count": null,
   "id": "0ac823dc-b107-46a3-bb08-05d9f85596ee",
   "metadata": {},
   "outputs": [],
   "source": [
    "#Text Classification\n",
    "\n",
    "headline=data['clean_news'][20]\n",
    "\n",
    "\n",
    "\n"
   ]
  },
  {
   "cell_type": "code",
   "execution_count": null,
   "id": "1c39d9b1-639b-4f89-931c-57db0b9c0f64",
   "metadata": {},
   "outputs": [],
   "source": []
  },
  {
   "cell_type": "code",
   "execution_count": null,
   "id": "03e742ab-721b-44ae-a9e7-b67ddd5fc09e",
   "metadata": {},
   "outputs": [],
   "source": []
  },
  {
   "cell_type": "code",
   "execution_count": null,
   "id": "4e7dd6be-c353-413c-a002-434f3278e091",
   "metadata": {},
   "outputs": [],
   "source": []
  },
  {
   "cell_type": "code",
   "execution_count": null,
   "id": "6d19c546",
   "metadata": {},
   "outputs": [],
   "source": []
  },
  {
   "cell_type": "code",
   "execution_count": null,
   "id": "695ecc4b",
   "metadata": {},
   "outputs": [],
   "source": []
  }
 ],
 "metadata": {
  "kernelspec": {
   "display_name": "Python 3 (ipykernel)",
   "language": "python",
   "name": "python3"
  },
  "language_info": {
   "codemirror_mode": {
    "name": "ipython",
    "version": 3
   },
   "file_extension": ".py",
   "mimetype": "text/x-python",
   "name": "python",
   "nbconvert_exporter": "python",
   "pygments_lexer": "ipython3",
   "version": "3.11.5"
  }
 },
 "nbformat": 4,
 "nbformat_minor": 5
}
